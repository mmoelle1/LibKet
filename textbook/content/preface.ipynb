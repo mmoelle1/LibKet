{
 "cells": [
  {
   "cell_type": "markdown",
   "metadata": {
    "tags": [
     "preface-cell",
     "preface-title"
    ]
   },
   "source": [
    "<title>Learn Quantum-Accelerated Scientific Computation using LibKet</title>\n",
    "<div class=\"preface-top\">\n",
    "<div class=\"preface-summary\">\n",
    "  <div class=\"preface-summary-text\">\n",
    "     <p>\n",
    "      Welcome to LibKet, the Quantum Expression Template Library. LibKet is a lightweight C++14 expression template library that allows you to develop quantum algorithms as hardware-agnostic expressions and execute them on different quantum simulators and quantum computers in the cloud without changing your code. In this tutorial you will learn:</p>\n",
    "      <ol>\n",
    "          <li>The mathematics behind gate-based quantum computing</li>\n",
    "          <li>The concepts of LibKet to implement hardware-agnostic quantum algorithms and quantum-accelerated applications</li>\n",
    "          <li>The potential of quantum computing for accelerating the solution of engineering problems</li>\n",
    "      </ol>\n",
    "</div>\n",
    "    <a href=\"https://libket.ewi.tudelft.nl/textbook/ch-cse21/cse21-tutorial01.html\"><button class=\"preface-button read-textbook\">Start with the tutorial <span class=\"rangle\"><img src=\"/textbook/assets/images/rightarrow.svg\"></span></button></a>\n",
    "</div>"
   ]
  },
  {
   "cell_type": "markdown",
   "metadata": {
    "tags": [
     "preface-cell"
    ]
   },
   "source": [
    "# About the Tutorial\n",
    "\n",
    "<p>This tutorial is derived from the famous <a href=\"https://qiskit.org/textbook/preface.html\">Qiskit textbook</a> which is an excellent source for learning the concepts of quantum computing. We want to thank the Qiskit community for their great effort and for making their work freely available under the <a href=\"https://www.apache.org/licenses/LICENSE-2.0\">Apache License 2.0</a>. LibKet Learn is reusing many of the great examples from the Qiskit textbook with the necessary modifications to the text and/or the source code to make the implementation of quantum algorithms hardware agnostic. The Qiskit community is by no means responsible for the content of this tutorial.</p>\n",
    "\n",
    "## Run the Code Inline\n",
    "\n",
    "<p>This tutorial is built on a jupyter notebook framework that allows for easy reading, but it also allows readers to edit and run the code right in the tutorial. As LibKet is a C++14 library, we use the <a href=\"https://github.com/jupyter-xeus/xeus-cling\">xeus cling</a> jupiter kernel to interpret C++ code. This might lead to longer startup times when running a notebook for the first time.</p>"
   ]
  },
  {
   "cell_type": "code",
   "execution_count": null,
   "metadata": {
    "tags": [
     "preface-code-cell"
    ]
   },
   "outputs": [],
   "source": [
    "// Click 'try', then 'run' to see the output,\n",
    "// you can change the code and run it again.\n",
    "#include \"LibKet.hpp\"\n",
    "using namespace LibKet;\n",
    "using namespace LibKet::circuits;\n",
    "using namespace LibKet::filters;\n",
    "using namespace LibKet::gates;\n",
    "auto expr = h(init());\n",
    "show<99>(expr);"
   ]
  },
  {
   "cell_type": "markdown",
   "metadata": {
    "tags": [
     "preface-cell"
    ]
   },
   "source": [    
    "#  Contact\n",
    "\n",
    "<p> If you have any questions or suggestions about the tutorial, please contact Matthias M&ouml;ller <a href=\"mailto:M.Moller@tudelft\">(M(dot)Moller(at)tudelft(dot)nl)</a>.</p>"
   ]
  },
  {
   "cell_type": "code",
   "execution_count": null,
   "metadata": {},
   "outputs": [],
   "source": []
  }
 ],
 "metadata": {
    "kernelspec": {
      "name": "xcpp14",
      "display_name": "C++14",
      "language": "C++14"
    },
    "language_info": {
      "codemirror_mode": "text/x-c++src",
      "file_extension": ".cpp",
      "mimetype": "text/x-c++src",
      "name": "c++",
      "version": "14"
    }
  },
  "nbformat": 4,
  "nbformat_minor": 1
}
