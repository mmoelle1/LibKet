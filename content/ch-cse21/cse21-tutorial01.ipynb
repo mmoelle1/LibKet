{
  "cells": [
    {
      "cell_type": "markdown",
      "metadata": {},
      "source": [
        "[![LibKet](images/LibKet.png)](https://gitlab.com/libket/LibKet)\n",
        "**LibKet - The Quantum Expression Template Library.**\n",
        "- Repository:    https://gitlab.com/libket/LibKet/\n",
        "- Documentation: https://libket.readthedocs.io/\n",
        "- API docs:      https://libket.gitlab.io/LibKet/\n",
        "\n",
        "---"
      ]
    },
    {
      "cell_type": "markdown",
      "metadata": {},
      "source": [
        "# Tutorial \\#1: Hands-on Introduction to Quantum Computing with LibKet\n",
        "In this tutorial you will learn to\n",
        "1. include the LibKet library in your application\n",
        "2. write quantum expressions for single- and multi-qubit circuits\n",
        "3. evaluate quantum expressions on the QuEST quantum simulator\n",
        "4. send a quantum state via quantum teleportation\n",
        "5. detect bit and phase flips using locigal qubits"
      ]
    },
    {
      "cell_type": "markdown",
      "metadata": {},
      "source": [
        "## Getting started\n",
        "\n",
        "**LibKet** is implemented as header-only C++17 library. It suffices to include the main header file `LibKet.hpp` in your application.\n",
        "\n",
        "This can take some time, stay tuned."
      ]
    },
    {
      "cell_type": "code",
      "execution_count": null,
      "metadata": {
        "trusted": true
      },
      "outputs": [],
      "source": [
        "#include \"LibKet.hpp\""
      ]
    },
    {
      "cell_type": "markdown",
      "metadata": {},
      "source": [
        "**LibKet**'s main functionality resides in the global namespace `LibKet` and in the nested namespaces `circuits`, `filters`, and `gates`.\n",
        "\n",
        "Let's import their functionality."
      ]
    },
    {
      "cell_type": "code",
      "execution_count": null,
      "metadata": {
        "trusted": true
      },
      "outputs": [],
      "source": [
        "using namespace LibKet;\n",
        "using namespace LibKet::circuits;\n",
        "using namespace LibKet::filters;\n",
        "using namespace LibKet::gates;"
      ]
    },
    {
      "cell_type": "markdown",
      "metadata": {},
      "source": [
        "Whenever you'd like to get help on a **LibKet** class or function you can simply type \n",
        "``?LibKet::filters::QFilter`` to display the [documentation](https://libket.gitlab.io/LibKet/)"
      ]
    },
    {
      "cell_type": "code",
      "execution_count": null,
      "metadata": {
        "trusted": true
      },
      "outputs": [],
      "source": [
        "?LibKet::filters::QFilter"
      ]
    },
    {
      "cell_type": "markdown",
      "metadata": {},
      "source": [
        "## Single-qubit quantum gates\n",
        "Let us start with a single qubit and apply the Hadamard gate to it. In **LibKet** this consists of two steps:\n",
        "1. Creation of a generic hardware-agnostic **quantum expression**\n",
        "2. Evaluation of the expression on a concrete **quantum backend**\n",
        "\n"
      ]
    },
    {
      "cell_type": "markdown",
      "metadata": {},
      "source": [
        "### Quantum expression\n",
        "Let's start with the first step and create a quantum expression that initializes the qubit to zero, $ \\lvert 0 \\rangle$, and apply a **Pauli-X** or **NOT**-gate to it, $ \\lvert\\psi \\rangle = X\\lvert 0\\rangle $."
      ]
    },
    {
      "cell_type": "code",
      "execution_count": null,
      "metadata": {
        "trusted": true
      },
      "outputs": [],
      "source": [
        "auto expr = x(init());"
      ]
    },
    {
      "cell_type": "markdown",
      "metadata": {},
      "source": [
        "In contrast to other quantum programming languages **LibKet**'s quantum expressions have to be read from inside to outside. Note that the above expression does not perform any operations yet but only creates a so-called [abstract syntax tree](https://en.wikipedia.org/wiki/Abstract_syntax_tree) (AST). \n",
        "\n",
        "You can print it with the help of the ``show(...)`` function."
      ]
    },
    {
      "cell_type": "code",
      "execution_count": null,
      "metadata": {
        "trusted": true
      },
      "outputs": [],
      "source": [
        "show(expr);"
      ]
    },
    {
      "cell_type": "markdown",
      "metadata": {},
      "source": [
        "By default, only the top-most level of the AST is printed. This can be changed by passing the number of the deepest level that should be printed as template argument, e.g., ``99``."
      ]
    },
    {
      "cell_type": "code",
      "execution_count": null,
      "metadata": {
        "trusted": true
      },
      "outputs": [],
      "source": [
        "show<99>(expr);"
      ]
    },
    {
      "cell_type": "markdown",
      "metadata": {},
      "source": [
        "### Quantum backend\n",
        "Let's evaluate our first quantum expression on a quantum simulator.\n",
        "\n",
        "**LibKet** supports a couple of them but the easiest one is probably the open-source [QuEST](https://quest.qtechtheory.org) *Quantum Exact Simulation Toolkit.* \n",
        "\n",
        "The following code snippet shows how to\n",
        "1.  Create a quantum device for a a single qubit\n",
        "2.  Load our generic quantum expression into it\n",
        "3.  Evaluate the quantum kernel and print the result"
      ]
    },
    {
      "cell_type": "code",
      "execution_count": null,
      "metadata": {
        "trusted": true
      },
      "outputs": [],
      "source": [
        "QDevice<QDeviceType::quest, 1> device;\n",
        "device(expr).eval(1);\n",
        "std::cout << device.reg() << std::endl;"
      ]
    },
    {
      "cell_type": "markdown",
      "metadata": {},
      "source": [
        "What we see here are the complex-valued coefficients $ \\alpha $ and $ \\beta $ of the state vector \n",
        "\n",
        "$$ \\lvert\\psi\\rangle = \\alpha \\lvert 0 \\rangle + \\beta \\lvert 1 \\rangle $$\n",
        "\n",
        "with $ |\\alpha|^2+|\\beta|^2 = 1 $. Since we started with $ \\lvert 0 \\rangle $ and applied a **NOT**-gate to it, we obtain \n",
        "\n",
        "$$ (0+i0)\\lvert 0 \\rangle + (1+i0)\\lvert 1 \\rangle = \\lvert 1 \\rangle $$\n",
        "\n",
        "\n",
        "Try yourself to create an expression for $ X\\lvert1\\rangle $ and evaluate it. What is the value of the coefficients?"
      ]
    },
    {
      "cell_type": "code",
      "execution_count": null,
      "metadata": {
        "trusted": true
      },
      "outputs": [],
      "source": []
    },
    {
      "cell_type": "markdown",
      "metadata": {},
      "source": [
        "### Hadamard gate\n",
        "\n",
        "Let us now create the quantum expression for $ H\\lvert0\\rangle $, the **Hadamard** gate."
      ]
    },
    {
      "cell_type": "code",
      "execution_count": null,
      "metadata": {
        "trusted": true
      },
      "outputs": [],
      "source": [
        "auto expr = h(init());\n",
        "QDevice<QDeviceType::quest, 1> device;\n",
        "device(expr).eval(1);\n",
        "std::cout << device.reg() << std::endl;"
      ]
    },
    {
      "cell_type": "markdown",
      "metadata": {},
      "source": [
        "In this case the state vector is 'halfway between' $ \\lvert0\\rangle $ and $ \\lvert1\\rangle $ since $ \\alpha = \\sqrt{2}+i0 $ and $ \\beta = \\sqrt{2}+i0 $. This phenomenon is termed **superposition** of the two pure states. It should be noted that this look behind the curtain is only possible with a quantum simulator but not with a real hardware device.\n",
        "\n",
        "The coefficients $ \\alpha $ and $ \\beta$ are termed the **probability amplitudes** and $ \\lvert\\alpha\\lvert^2 $ and $ \\lvert\\beta\\lvert^2 $ are the **probabilities**. The QuEST simulator allows you to calculate them directly by calling ``device.probabilities()``."
      ]
    },
    {
      "cell_type": "code",
      "execution_count": null,
      "metadata": {
        "trusted": true
      },
      "outputs": [],
      "source": [
        "auto expr = h(init());\n",
        "QDevice<QDeviceType::quest, 1> device;\n",
        "device(expr).eval(1);\n",
        "std::cout << device.probabilities() << std::endl;"
      ]
    },
    {
      "cell_type": "markdown",
      "metadata": {},
      "source": [
        "Try yourself to create an expression for $ H \\lvert 1 \\rangle $ and evaluate it. What is the value of the coefficients? What is their probabilities?"
      ]
    },
    {
      "cell_type": "code",
      "execution_count": null,
      "metadata": {
        "trusted": true
      },
      "outputs": [],
      "source": []
    },
    {
      "cell_type": "markdown",
      "metadata": {},
      "source": [
        "### Measurement\n",
        "On a real quantum computer, one cannot readout the values of the state vector directly. The same applies to the probabilities. The way to obtain the latter is to perform **measurements** at the end of the quantum circuit and run it multiple times."
      ]
    },
    {
      "cell_type": "code",
      "execution_count": null,
      "metadata": {
        "trusted": true
      },
      "outputs": [],
      "source": [
        "auto expr = measure(h(init()));\n",
        "QDevice<QDeviceType::quest, 1> device;\n",
        "device(expr);\n",
        "for(int i=0; i<10; ++i) {\n",
        "    device.eval(1);\n",
        "    std::cout << device.creg() << std::endl;\n",
        "}"
      ]
    },
    {
      "cell_type": "markdown",
      "metadata": {},
      "source": [
        "You should see that there is a 50:50 change of ending up in either of the two states."
      ]
    },
    {
      "cell_type": "markdown",
      "metadata": {},
      "source": [
        "## Single-qubit quantum circuits\n",
        "Create a quantum expression for the following circuit and evaluate it\n",
        "\n",
        "![HZH](images/single_qubit_circuit_HZH.png)"
      ]
    },
    {
      "cell_type": "code",
      "execution_count": null,
      "metadata": {
        "trusted": true
      },
      "outputs": [],
      "source": []
    },
    {
      "cell_type": "markdown",
      "metadata": {},
      "source": [
        "Next create a quantum expression for the following circuit and evaluate it\n",
        "\n",
        "![HXH](images/single_qubit_circuit_HXH.png)"
      ]
    },
    {
      "cell_type": "code",
      "execution_count": null,
      "metadata": {
        "trusted": true
      },
      "outputs": [],
      "source": []
    },
    {
      "cell_type": "markdown",
      "metadata": {},
      "source": [
        "## Multi-qubit quantum circuits\n",
        "To create expressions for quantum circuits with multiple qubits we need to select qubits before applying quantum gates to them.\n",
        "\n",
        "In **LibKet** this is established with the aid of **quantum filters** which act as masks or selection operators. \n",
        "\n",
        "![HI](images/multi_qubit_circuit_HI.png)\n",
        "\n",
        "A quantum expression for the above two-qubit quantum circuit can be constructed as follows"
      ]
    },
    {
      "cell_type": "code",
      "execution_count": null,
      "metadata": {
        "trusted": true
      },
      "outputs": [],
      "source": [
        "auto expr = h(sel<0>(init()));"
      ]
    },
    {
      "cell_type": "markdown",
      "metadata": {},
      "source": [
        "What is the result of evaluating it on the QuEST simulator? Don't forget to set the number of qubits to two."
      ]
    },
    {
      "cell_type": "code",
      "execution_count": null,
      "metadata": {
        "trusted": true
      },
      "outputs": [],
      "source": []
    },
    {
      "cell_type": "markdown",
      "metadata": {},
      "source": [
        "Also try to print the expression's AST using the ``show(...)`` function to see how the filter ``sel<0>(...)`` affects it."
      ]
    },
    {
      "cell_type": "code",
      "execution_count": null,
      "metadata": {
        "trusted": true
      },
      "outputs": [],
      "source": []
    },
    {
      "cell_type": "markdown",
      "metadata": {},
      "source": [
        "The ``operator<<(...)`` is overloaded for all quantum expression so that you can also print it in human-readable form"
      ]
    },
    {
      "cell_type": "code",
      "execution_count": null,
      "metadata": {
        "trusted": true
      },
      "outputs": [],
      "source": [
        "std::cout << expr << std::endl;"
      ]
    },
    {
      "cell_type": "markdown",
      "metadata": {},
      "source": [
        "You might have noticed some small differences between above printout and the expression you typed originally.\n",
        "\n",
        "Filters with a trailing ``_`` such as ``sel_<0>(...)`` are a shorthand notation for ``sel<0>(all(...))``, that is, application of the filter *after* resetting any previous selections. We will use this feature in the exercises below.\n",
        "\n",
        "Let's spend a few more words on **LibKet**'s filter concept which is not found in other quantum programming SDKs. In our understanding, quantum computing has some similarities with [data-flow computing](https://en.wikipedia.org/wiki/Dataflow_programming) in which data is flowing between operations along the edges of a directed graph. In quantum computing, the state vector is first initialized at the start of the circuit execution and subsequently manipulated by flowing through a sequence of quantum gates. The main different between quantum and data-flow computing is that all operations in quantum computing need to be reversible which reduces the directed flow graph to a linear sequence of operations. In this analogy, the filters serve as masks to select a subsets of qubits to which the next following operations are applied in a [SIMD](https://en.wikipedia.org/wiki/SIMD)-like fashion.\n",
        "\n",
        "The second difference between the serialized version of ``expr`` and your implementation is the innermost ``filter()``. It is a no-operation that is created by the ``operator<<(...)`` for technical reasons but can be left out when typing quantum expressions by hand.\n",
        "\n",
        "Finally, ``operator<<(...)`` expands quantum gates to their full name, e.g., ``h(...)`` becomes ``hadamard(...)``. **LibKet** implements aliases for all gates that follow a simple pattern. The **Hadamard** gate, for instance, can be implemented using ``h(...)``, ``H(...)``, ``hadamard(...)``, and ``HADAMARD(...)``."
      ]
    },
    {
      "cell_type": "markdown",
      "metadata": {},
      "source": [
        "## Optimization of gate groups\n",
        "**LibKet** can be configured (in is so in all these notebooks) to optimize gate groups based on a few simple optimization rules. The application of a gate and its adjoint reduces to the identity operator, e.g., $ H\\circ H^\\dagger = I $. Thus, if you create the expression ``h(hdag(init()))``, **LibKet**'s optimization engine will return ``init()``."
      ]
    },
    {
      "cell_type": "code",
      "execution_count": null,
      "metadata": {
        "trusted": true
      },
      "outputs": [],
      "source": [
        "auto expr = h(hdag(init()));\n",
        "std::cout << expr << std::endl;"
      ]
    },
    {
      "cell_type": "markdown",
      "metadata": {},
      "source": [
        "In the course of this tutorial we will see some more optimization rules such as the fusion of rotation gates with different angles into a single rotation, e.g., $ R_x(\\theta_1)\\circ R_x(\\theta_2) = R_x(\\theta_1+\\theta_2) $, or the cancellation of certain gate groups, e.g., $ R_x(\\theta)\\circ R_x(-\\theta) = R_x(\\theta)\\circ R_x^\\dagger(\\theta) = I $. If you want to disable this feature you must configure **LibKet** with ``LIBKET_OPTIMIZE_GATES=OFF`` (not possible in this cloud-based environment)."
      ]
    },
    {
      "cell_type": "markdown",
      "metadata": {},
      "source": [
        "## Multi-qubit quantum gates\n",
        "In the above example the multi-qubit circuit was composed of two single-qubit gates, whereby the identidy gate was left out since it had no effecty.\n",
        "\n",
        "**LibKet** also provides a couple of true multi-qubit gates like the **CNOT**-gate. Since it operates on two qubits simultaneously we have to pass two arguments to it. The first one is the **control qubit** and the second is the **target qubit**."
      ]
    },
    {
      "cell_type": "code",
      "execution_count": null,
      "metadata": {
        "trusted": true
      },
      "outputs": [],
      "source": [
        "auto expr = cnot( sel<0>(), sel<1>( init() ) );"
      ]
    },
    {
      "cell_type": "markdown",
      "metadata": {},
      "source": [
        "It is also possible to perform ``init()`` in the first argument but make sure it is not performed twice. That's why you should **never** type"
      ]
    },
    {
      "cell_type": "code",
      "execution_count": null,
      "metadata": {
        "trusted": true
      },
      "outputs": [],
      "source": [
        "auto expr = cnot( sel<0>(), sel<1>() ) ( init() );"
      ]
    },
    {
      "cell_type": "markdown",
      "metadata": {},
      "source": [
        "## Multi-qubit quantum circuit"
      ]
    },
    {
      "cell_type": "markdown",
      "metadata": {},
      "source": [
        "Let us create a quantum expression for the following two-qubit circuit which creates the [first Bell state](https://en.wikipedia.org/wiki/Bell_state) $ \\lvert \\beta_{00}\\rangle = \\frac{1}{\\sqrt{2}}(\\lvert 00 \\rangle + \\lvert 11 \\rangle) $ \n",
        "\n",
        "![Bell](images/multi_qubit_circuit_HI_CNOT.png)\n",
        "\n",
        "After initializing both qubits to zero, a Hadamard gate is applied to the zeroth qubit followed by a **CNOT**-gate applied to both."
      ]
    },
    {
      "cell_type": "code",
      "execution_count": null,
      "metadata": {
        "trusted": true
      },
      "outputs": [],
      "source": [
        "auto expr = cnot(h(sel<0>()), sel<1>(init()));"
      ]
    },
    {
      "cell_type": "markdown",
      "metadata": {},
      "source": [
        "Here we make use of the fact that filters persist after the application of gates. That is, the selection of the zeroth qubit via ``sel<0>()`` remains active after applying the Hadamard gate to it so that the control qubit is still the zeroth qubit."
      ]
    },
    {
      "cell_type": "markdown",
      "metadata": {},
      "source": [
        "## Exercise: Bell states\n",
        "Write quantum expressions for the three other Bell states\n",
        "\n",
        "$$ \\lvert \\beta_{01}\\rangle = \\frac{1}{\\sqrt{2}}(\\lvert 01 \\rangle + \\lvert 10 \\rangle) \\qquad\n",
        "   \\lvert \\beta_{10}\\rangle = \\frac{1}{\\sqrt{2}}(\\lvert 00 \\rangle - \\lvert 11 \\rangle) / \\sqrt{2} \\qquad\n",
        "   \\lvert \\beta_{11}\\rangle = \\frac{1}{\\sqrt{2}}(\\lvert 01 \\rangle - \\lvert 10 \\rangle) / \\sqrt{2} $$\n",
        "\n",
        "You can always reset the filter selection by applying the ``all(...)`` filter. That is, ``x(sel<1>(all(h(sel<0>()))))`` applies a **Hadamard** gate on the zeroth qubit and an **X**-gate in the first qubit afterwards. Alternatively, you can use the shorthand notation ``x(sel<1>_(h(sel<0>())))``."
      ]
    },
    {
      "cell_type": "code",
      "execution_count": null,
      "metadata": {
        "trusted": true
      },
      "outputs": [],
      "source": []
    },
    {
      "cell_type": "markdown",
      "metadata": {},
      "source": [
        "## Exercise: Basic quantum circuits\n",
        "Write quantum expressions for the following circuits. You might need to use the ``all()`` filter or the shorthand notation ``sel_<...>`` multiple times.\n",
        "\n",
        "![Exercise](images/multi_qubit_circuit_exercises.png)\n",
        "\n",
        "The second gate in the third exercise is a **SWAP**-gate, ``swap(qubit0, qubit1)`` which simply swaps the two qubits.\n",
        "\n",
        "The last gate in the fourth exercise is termed **Toffoli** or **CCNOT**-gate, ``ccnot(ctrl0, ctrl1, target)`` which applies a **Pauli-X** or **NOT**-operation on the target qubit of both control qubits are true."
      ]
    },
    {
      "cell_type": "code",
      "execution_count": null,
      "metadata": {
        "trusted": true
      },
      "outputs": [],
      "source": []
    },
    {
      "cell_type": "markdown",
      "metadata": {},
      "source": [
        "## Exercise: Quantum teleportation\n",
        "\n",
        "Let us have a look at a famous quantum algorithm - [Quantum Teleportation](https://en.wikipedia.org/wiki/Quantum_teleportation). In short, Alice wants to send the qubit state $ \\lvert q_0\\rangle = \\alpha \\lvert0\\rangle+\\beta \\lvert1\\rangle$ to Bob. The no-cloning theorem forbids her to make a simple copy of the unknown quantum state. What she can do is to share with Bob an entangled qubit pair and transfer the information via two classical bits. This, of course, involves two measurements.\n",
        "\n",
        "![Quantum teleportation](images/quantum_teleportation.png)\n",
        "\n",
        "Implement a **LibKet** quantum expression for the above quantum circuit. Start with $ \\lvert q_1\\rangle = \\lvert q_2\\rangle:=\\lvert0\\rangle $ and let Alice send the message $\\lvert q_0\\rangle = \\lvert 1 \\rangle $ to Bob."
      ]
    },
    {
      "cell_type": "code",
      "execution_count": null,
      "metadata": {
        "trusted": true
      },
      "outputs": [],
      "source": []
    },
    {
      "cell_type": "markdown",
      "metadata": {},
      "source": [
        "## Exercise: Quantum error correction\n",
        "\n",
        "At the end of the first part of this tutorial we have briefly introduced the concept of **quantum error correction** (QEC). In QEC, quantum information is protected by encoding a *logical qubit* into several unreliable *physical qubits* and by detecting possible errors through the use of extra *ancilla qubits* (parity-checks).\n",
        "\n",
        "![Quantum error correction](images/quantum_error_correction.png)\n",
        "\n",
        "Let’s have a closer look at the bit-flip code by implementing the above circuit in **LibKet**. In this case, our logical state corresponds to a logical 0, $\\lvert\\psi_L\\rangle=\\lvert 000\\rangle$. After the encoding part (the first two **CNOT**s) but before the detection part (the following 4 **CNOT**s) introduce different single bit-flip errors in each of the data qubits (e.g. $X \\lvert q_1\\rangle$) and observe what the measurement results are (i.e. measure $\\lvert q_3\\rangle$ and $\\lvert q_4\\rangle$)."
      ]
    },
    {
      "cell_type": "code",
      "execution_count": null,
      "metadata": {
        "trusted": true
      },
      "outputs": [],
      "source": []
    }
  ],
  "metadata": {
    "kernelspec": {
      "display_name": "C++17",
      "language": "C++17",
      "name": "xcpp17"
    },
    "language_info": {
      "codemirror_mode": "text/x-c++src",
      "file_extension": ".cpp",
      "mimetype": "text/x-c++src",
      "name": "c++",
      "version": "17"
    }
  },
  "nbformat": 4,
  "nbformat_minor": 1
}
