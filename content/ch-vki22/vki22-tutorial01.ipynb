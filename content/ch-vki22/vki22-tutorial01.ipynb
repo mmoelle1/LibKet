{
    "cells": [
        {
            "cell_type": "markdown",
            "metadata": {},
            "source": [
                "# Tutorial \\#1: Hands-on Introduction to LibKet"
            ]
        },
        {
            "cell_type": "markdown",
            "metadata": {},
            "source": [
                "## Getting started\n",
                "\n",
                "**LibKet** is implemented as header-only C++17 library. It suffices to include the main header file `LibKet.hpp` in your application.\n",
                "\n",
                "This can take some time, stay tuned."
            ]
        },
        {
            "cell_type": "code",
            "execution_count": null,
            "metadata": {
                "trusted": true
            },
            "outputs": [],
            "source": [
                "#include \"LibKet.hpp\""
            ]
        },
        {
            "cell_type": "markdown",
            "metadata": {},
            "source": [
                "**LibKet**'s main functionality resides in the global namespace `LibKet` and in the nested namespaces `circuits`, `filters`, and `gates`.\n",
                "\n",
                "Let's import their functionality."
            ]
        },
        {
            "cell_type": "code",
            "execution_count": null,
            "metadata": {
                "trusted": true
            },
            "outputs": [],
            "source": [
                "using namespace LibKet;\n",
                "using namespace LibKet::circuits;\n",
                "using namespace LibKet::filters;\n",
                "using namespace LibKet::gates;"
            ]
        },
        {
            "cell_type": "markdown",
            "metadata": {},
            "source": [
                "Whenever you'd like to get help on a **LibKet** class or function you can simply type \n",
                "``?LibKet::filters::QFilter`` to display the [documentation](https://libket.gitlab.io/LibKet/)"
            ]
        },
        {
            "cell_type": "code",
            "execution_count": null,
            "metadata": {
                "trusted": true
            },
            "outputs": [],
            "source": [
                "?LibKet::filters::QFilter"
            ]
        },
        {
            "cell_type": "markdown",
            "metadata": {},
            "source": [
                "## Standard way of coding quantum kernels"
            ]
        },
        {
            "cell_type": "code",
            "execution_count": null,
            "metadata": {
                "trusted": true
            },
            "outputs": [],
            "source": [
                "QProgram prog;\n",
                "\n",
                "\n",
                "\n",
                "std::string expr_str = prog.to_string();"
            ]
        },
        {
            "cell_type": "markdown",
            "metadata": {},
            "source": [
                "Let us evaluate the quantum program on the high-performance quantum-computer simulator [QuEST](https://quest.qtechtheory.org)"
            ]
        },
        {
            "cell_type": "code",
            "execution_count": null,
            "metadata": {
                "trusted": true
            },
            "outputs": [],
            "source": [
                "QDevice<QDeviceType::quest, 2> device;\n",
                "device(expr_str).eval(1);\n",
                "std::cout << device.reg() << std::endl;"
            ]
        },
        {
            "cell_type": "markdown",
            "metadata": {},
            "source": [
                "The QuEST simulator allows you to calculate the probabilities directly"
            ]
        },
        {
            "cell_type": "code",
            "execution_count": null,
            "metadata": {
                "vscode": {
                    "languageId": "plaintext"
                }
            },
            "outputs": [],
            "source": [
                "QDevice<QDeviceType::quest, 2> device;\n",
                "device(expr_str).eval(1);\n",
                "std::cout << device.probabilities() << std::endl;"
            ]
        },
        {
            "cell_type": "markdown",
            "metadata": {},
            "source": [
                "On a real quantum computer we cannot read out the quantum state nor the probabilities but we have to retrieve the outcome of the quantum algorithm be measurement. Let us also move to another simulator [Cirq](https://quantumai.google/cirq)."
            ]
        },
        {
            "cell_type": "code",
            "execution_count": null,
            "metadata": {
                "vscode": {
                    "languageId": "plaintext"
                }
            },
            "outputs": [],
            "source": [
                "QDevice<QDeviceType::cirq_simulator, 2> device;\n",
                "auto result = device(expr_str).eval(1024);"
            ]
        },
        {
            "cell_type": "markdown",
            "metadata": {},
            "source": [
                "We can extract specific information from the result on a backend-agnostic fashion"
            ]
        },
        {
            "cell_type": "code",
            "execution_count": null,
            "metadata": {
                "vscode": {
                    "languageId": "plaintext"
                }
            },
            "outputs": [],
            "source": [
                "std::cout << result << std::endl;"
            ]
        },
        {
            "cell_type": "markdown",
            "metadata": {},
            "source": [
                "We can also get a slightly prettier output"
            ]
        },
        {
            "cell_type": "code",
            "execution_count": null,
            "metadata": {
                "vscode": {
                    "languageId": "plaintext"
                }
            },
            "outputs": [],
            "source": [
                "std::cout << result.dump(2) << std::endl;"
            ]
        },
        {
            "cell_type": "markdown",
            "metadata": {},
            "source": [
                "As this is still not too informative, LibKet provides quick access get<...>() functions to retrieve information about the duration of the quantum computation, a histogram of all measured states, and the best state, i.e. the one that was measured most often"
            ]
        },
        {
            "cell_type": "code",
            "execution_count": null,
            "metadata": {
                "vscode": {
                    "languageId": "plaintext"
                }
            },
            "outputs": [],
            "source": [
                "result = cirq.eval(20);\n",
                "\n",
                "std::cout << \"duration  : \" << cirq.get<QResultType::duration>(result).count() << \" seconds\" << std::endl;\n",
                "std::cout << \"histogram : \" << cirq.get<QResultType::histogram>(result)        << std::endl;\n",
                "std::cout << \"best      : \" << cirq.get<QResultType::best>(result)             << std::endl;"
            ]
        },
        {
            "cell_type": "markdown",
            "metadata": {},
            "source": [
                "## LibKet's way of implementing quantum kernels"
            ]
        },
        {
            "cell_type": "code",
            "execution_count": null,
            "metadata": {
                "vscode": {
                    "languageId": "plaintext"
                }
            },
            "outputs": [],
            "source": []
        }
    ],
    "metadata": {
        "kernelspec": {
            "display_name": "C++17",
            "language": "C++17",
            "name": "xcpp17"
        },
        "language_info": {
            "codemirror_mode": "text/x-c++src",
            "file_extension": ".cpp",
            "mimetype": "text/x-c++src",
            "name": "c++",
            "version": "17"
        }
    },
    "nbformat": 4,
    "nbformat_minor": 1
}
