{
  "cells": [
    {
      "cell_type": "markdown",
      "metadata": {},
      "source": [
        "# Tutorial \\#2: VQE in LibKet"
      ]
    },
    {
      "cell_type": "code",
      "execution_count": null,
      "metadata": {
        "trusted": true
      },
      "outputs": [],
      "source": [
        "#include \"LibKet.hpp\"\n",
        "using namespace LibKet;\n",
        "using namespace LibKet::circuits;\n",
        "using namespace LibKet::filters;\n",
        "using namespace LibKet::gates;"
      ]
    },
    {
      "cell_type": "markdown",
      "metadata": {},
      "source": [
        "## Hamiltonian coefficients structure"
      ]
    },
    {
      "cell_type": "code",
      "execution_count": null,
      "metadata": {
        "vscode": {
          "languageId": "plaintext"
        }
      },
      "outputs": [],
      "source": [
        "struct HamiltonianCoeffs\n",
        "{\n",
        "  double c[2] = {0.5, 0.6};\n",
        "};"
      ]
    },
    {
      "cell_type": "markdown",
      "metadata": {},
      "source": [
        "## VQE structure"
      ]
    },
    {
      "cell_type": "code",
      "execution_count": null,
      "metadata": {
        "vscode": {
          "languageId": "plaintext"
        }
      },
      "outputs": [],
      "source": [
        "struct VQE\n",
        "{\n",
        "  template<int index, typename Expr>\n",
        "  auto U3(Expr&& expr, double theta, double phi, double lambda)\n",
        "  {    \n",
        "    QVar_t<3*index,1>   var_theta(theta*2*M_PI);\n",
        "    QVar_t<3*index+1,1> var_phi(phi*2*M_PI);\n",
        "    QVar_t<3*index+2,1> var_lambda(lambda*2*M_PI);\n",
        "\n",
        "    return rz(var_phi,\n",
        "              rx(-QConst_M_PI_2, \n",
        "                 rz(var_theta,\n",
        "                    rx(QConst_M_PI_2, \n",
        "                       rz(var_lambda, \n",
        "                          expr\n",
        "                          )\n",
        "                       )\n",
        "                    )\n",
        "                 )\n",
        "              );\n",
        "  }\n",
        "\n",
        "  template<typename Expr, typename Params>\n",
        "  auto genAnsatz(Expr&& expr, Params&& params)\n",
        "  {   \n",
        "    // 2-qubit U3 ansatz         \n",
        "    auto U3_0 = U3<0>(sel<0>(init()), params[0], params[1], params[2]);\n",
        "    auto U3_1 = U3<1>(sel<1>(all(U3_0)), params[3], params[4], params[5]);\n",
        "\n",
        "    auto CNOT1 = cnot(sel<1>(), sel<0>(all(U3_1)));\n",
        "\n",
        "    auto U3_2 = U3<2>(sel<0>(all(CNOT1)), params[6], params[7], params[8]);\n",
        "    auto U3_3 = U3<3>(sel<1>(all(U3_2)), params[9], params[10], params[11]);\n",
        "\n",
        "    auto CNOT2 = cnot(sel<0>(), sel<1>(all(U3_3)));\n",
        "\n",
        "    auto U3_4 = U3<4>(sel<0>(all(CNOT2)), params[12], params[13], params[14]);\n",
        "    auto U3_5 = U3<5>(sel<1>(all(U3_4)), params[15], params[16], params[17]);\n",
        "\n",
        "    auto CNOT3 = cnot(sel<1>(), sel<0>(all(U3_5)));\n",
        "\n",
        "    auto U3_6 = U3<6>(sel<0>(all(CNOT3)), params[18], params[19], params[20]);\n",
        "    auto U3_7 = U3<7>(sel<1>(all(U3_6)), params[21], params[22], params[23]);\n",
        "\n",
        "    return all(U3_7);\n",
        "  }\n",
        "\n",
        "  // Convert histogram output to expectation value\n",
        "  template<typename HistType>\n",
        "  double histToExp(HistType hist)\n",
        "  {\n",
        "    // Initialize expectation value an total number of shots to zero\n",
        "    long expectation = 0;\n",
        "    long shots = 0;\n",
        "      \n",
        "    //Loop over all states\n",
        "    for(int state = 0; state < hist.size(); state++)\n",
        "      {\n",
        "        // Get bitset based on hist index\n",
        "        std::bitset<2> bits(state);\n",
        "        \n",
        "        // Add expectations bases on bitset parity\n",
        "        if(bits.count() % 2 == 0)\n",
        "          { // Even\n",
        "            expectation += (long)hist[state];\n",
        "          }\n",
        "        else{\n",
        "          // Odd\n",
        "          expectation -= (long)hist[state];\n",
        "      }\n",
        "      shots += hist[state];\n",
        "    }\n",
        "    // Return expectation over all shots\n",
        "    return (double)expectation/(double)shots;\n",
        "  }\n",
        "\n",
        "  template<QDeviceType DeviceType, typename Params, typename H_coeffs>\n",
        "  double runVQE(Params&& params, H_coeffs h_coeffs, std::size_t shots)\n",
        "  {     \n",
        "    // Generate ansatz (without measurements)\n",
        "    auto anz = genAnsatz(init(), params);\n",
        "\n",
        "    // Initalize two quantum devices, each for a measurement basis\n",
        "    QDevice<DeviceType, 2> qpu0, qpu1;\n",
        "\n",
        "    // Load ansatz onto QPU and execute\n",
        "    qpu0(measure(h(sel<0>(anz))));                                   // Measure qubit 0 in X basis\n",
        "    auto result0 = qpu0.eval(shots);                                 // Execute for shots times\n",
        "    auto hist0 = qpu0.template get<QResultType::histogram>(result0); // Retrieve histogram from results\n",
        "    auto expectation0 = histToExp(hist0);                            // Get expectation value from histogram\n",
        "\n",
        "    qpu1(measure(h(sel<1>(anz))));                                   // Measure qubit 1 in X basis\n",
        "    auto result1 = qpu1.eval(shots);                                 // Execute for shots times\n",
        "    auto hist1 = qpu1.template get<QResultType::histogram>(result1); // Retrieve histogram from results\n",
        "    auto expectation1 = histToExp(hist1);                            // Get expectation value from histogram\n",
        "\n",
        "    //Return expectation value for each Hamiltonian term, scaled by its coeffient\n",
        "    return h_coeffs.c[0]*expectation0 + h_coeffs.c[1]*expectation1;\n",
        "  }\n",
        "};"
      ]
    },
    {
      "cell_type": "markdown",
      "metadata": {},
      "source": [
        "## NLopt optimization function"
      ]
    },
    {
      "cell_type": "code",
      "execution_count": null,
      "metadata": {
        "vscode": {
          "languageId": "plaintext"
        }
      },
      "outputs": [],
      "source": [
        "static double vqa_opt(const std::vector<double> &params, std::vector<double> &grad, void *func_data)\n",
        "{\n",
        "  static std::size_t iter=0;\n",
        "  \n",
        "  // Create Hamiltonian\n",
        "  HamiltonianCoeffs H_coeffs;\n",
        "\n",
        "  // Create VQE struct\n",
        "  VQE vqe;\n",
        "\n",
        "  // Run VQE and get expectation function\n",
        "  double expectation = vqe.runVQE<QDeviceType::cirq_simulator>(params, H_coeffs, 4096);\n",
        "\n",
        "  // Iteration message:\n",
        "  std::cour << \"Iteration \" << iter++ << \" Expectation value \" << expectation << std::endl;\n",
        "\n",
        "  return expectation;\n",
        "}\n"
      ]
    },
    {
      "cell_type": "markdown",
      "metadata": {},
      "source": [
        "## Compute classical solution"
      ]
    },
    {
      "cell_type": "code",
      "execution_count": null,
      "metadata": {
        "vscode": {
          "languageId": "plaintext"
        }
      },
      "outputs": [],
      "source": [
        "double classicalExpectation()\n",
        "{\n",
        "  // Complex contants (0, i, 1)\n",
        "  std::complex<double> c_0(0,0);\n",
        "  std::complex<double> c_i(0,1);\n",
        "  std::complex<double> c_1(1,0);\n",
        "\n",
        "  HamiltonianCoeffs H_coeffs;\n",
        "\n",
        "  // Pauli matrices\n",
        "  arma::cx_mat I = {{c_1,  c_0}, {c_0,  c_1}};\n",
        "  arma::cx_mat X = {{c_0,  c_1}, {c_1,  c_0}};\n",
        "  arma::cx_mat H_BK = H_coeffs.c[0]*arma::kron(X, I) + H_coeffs.c[1]*arma::kron(I, X);\n",
        "  arma::vec eigval = arma::sort(arma::eig_sym(real(H_BK)));\n",
        "\n",
        "  return eigval[0];\n",
        "}"
      ]
    },
    {
      "cell_type": "markdown",
      "metadata": {},
      "source": [
        "## The main function"
      ]
    },
    {
      "cell_type": "code",
      "execution_count": null,
      "metadata": {
        "vscode": {
          "languageId": "plaintext"
        }
      },
      "outputs": [],
      "source": [
        "// Set U3 parameters   \n",
        "std::size_t numParams = 8*3;\n",
        "\n",
        "// Set NLopt variables     \n",
        "double _minf;\n",
        "std::vector<double> _opt_params;\n",
        "\n",
        "// NLopt optimizer initialization    \n",
        "std::vector<double> lb;\n",
        "std::vector<double> ub;\n",
        "std::vector<double> params;\n",
        "double tol = 1e-3;\n",
        "   \n",
        "// Fill in parameters based on algorithm   \n",
        "for(int i=0; i < numParams; i++)\n",
        "{\n",
        "    lb.push_back(0.0);      // Set lower bounds to 0.0\n",
        "    ub.push_back(1.0);      // Set upper bounds to 1.0\n",
        "    params.push_back(0.5);  // Set initial pararms to 0.5\n",
        "} \n",
        "\n",
        "struct OptData{} optData;\n",
        "\n",
        "// Set parameters\n",
        "nlopt::opt opt(nlopt::LN_COBYLA, numParams);\n",
        "opt.set_lower_bounds(lb);\n",
        "opt.set_upper_bounds(ub);\n",
        "opt.set_min_objective(vqa_opt, &optData); \n",
        "opt.set_xtol_rel(tol);\n",
        "\n",
        "try\n",
        "{\n",
        "    nlopt::result result = opt.optimize(params, _minf);\n",
        "    _opt_params = params;\n",
        "}\n",
        "catch(std::exception &e)\n",
        "{\n",
        "    std::cout << \"NLopt failed: \" << e.what() << std::endl;\n",
        "}\n",
        "  \n",
        "std::cout << \"VQE Expectation: \" << _minf << std::endl;\n",
        "std::cout << \"Exact Expectation: \" << classicalExpectation() << std::endl;"
      ]
    }
  ],
  "metadata": {
    "kernelspec": {
      "display_name": "C++17",
      "language": "C++17",
      "name": "xcpp17"
    },
    "language_info": {
      "codemirror_mode": "text/x-c++src",
      "file_extension": ".cpp",
      "mimetype": "text/x-c++src",
      "name": "c++",
      "version": "17"
    }
  },
  "nbformat": 4,
  "nbformat_minor": 1
}
