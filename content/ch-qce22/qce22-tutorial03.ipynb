{
  "cells": [
    {
      "cell_type": "markdown",
      "metadata": {},
      "source": [
        "# Tutorial \\#3: LibKet - Advanced Features\n",
        "In this third part of the tutorial you will learn to write quantum algorithms as quantum expressions and to execute them on different quantum computer backends. You will also learn to implement generic quantum expressions as building blocks for larger quantum algorithms."
      ]
    },
    {
      "cell_type": "markdown",
      "metadata": {},
      "source": [
        "## Getting started\n",
        "Let's include **LibKet**'s main headerfile and import its namespaces"
      ]
    },
    {
      "cell_type": "code",
      "execution_count": null,
      "metadata": {
        "trusted": true
      },
      "outputs": [],
      "source": [
        "#include \"LibKet.hpp\"\n",
        "using namespace LibKet;\n",
        "using namespace LibKet::circuits;\n",
        "using namespace LibKet::filters;\n",
        "using namespace LibKet::gates;"
      ]
    },
    {
      "cell_type": "markdown",
      "metadata": {},
      "source": [
        "## Quantum expressions\n",
        "\n",
        "Let us revisit a simple program from the second part of this tutorial and have a look at what `to_string()` returns"
      ]
    },
    {
      "cell_type": "code",
      "execution_count": null,
      "metadata": {
        "vscode": {
          "languageId": "plaintext"
        }
      },
      "outputs": [],
      "source": [
        "QProgram prog1;\n",
        "prog1.h(0);\n",
        "prog1.cnot(0,1);\n",
        "std::cout << prog1.to_string() << std::endl;"
      ]
    },
    {
      "cell_type": "markdown",
      "metadata": {},
      "source": [
        "This is a **quantum expression** that is generated from the **quantum program**. \n",
        "\n",
        "It needs to be read from inside to outside, i.e. first all qubits are initialized (`init()`) which is the default behavior when creating a new `QProgram` object. \n",
        "\n",
        "Next,the zeroth qubit is selected (`sel_<0>(...)`) and a Hadamard gate (`h(...)`) is applied. \n",
        "\n",
        "Finally, the outcome of the previous operations is *streamed* through the CNOT gate (`cnot(..., ...)`), whereby the zeroth qubit is selected as control qubit and the first qubit is the one to which the NOT operation is applied to."
      ]
    },
    {
      "cell_type": "markdown",
      "metadata": {},
      "source": [
        "We can use the same notation to create **quantum expressions** ourselves"
      ]
    },
    {
      "cell_type": "code",
      "execution_count": null,
      "metadata": {
        "vscode": {
          "languageId": "plaintext"
        }
      },
      "outputs": [],
      "source": [
        "auto expr1 = cnot(sel_<0>(),sel_<1>(h(sel_<0>(init()))));\n",
        "std::cout << expr1 << std::endl;"
      ]
    },
    {
      "cell_type": "markdown",
      "metadata": {},
      "source": [
        "What we see is that **LibKet** provides aliases for all gates, i.e. the Hadamard gate can be accessed with `h()`, `hadamard()`, `H()`, and `HADAMARD()`."
      ]
    },
    {
      "cell_type": "markdown",
      "metadata": {},
      "source": [
        "Another way of looking at the quantum expression is to inspect its [abstract syntax tree](https://en.wikipedia.org/wiki/Abstract_syntax_tree) (AST) which we print with"
      ]
    },
    {
      "cell_type": "code",
      "execution_count": null,
      "metadata": {
        "vscode": {
          "languageId": "plaintext"
        }
      },
      "outputs": [],
      "source": [
        "show(expr1)"
      ]
    },
    {
      "cell_type": "markdown",
      "metadata": {},
      "source": [
        "This only shows the top-most level of the syntax tree. Here, the CNOT gate. To see the full syntax tree, we increase the level up to which we want to print the AST."
      ]
    },
    {
      "cell_type": "code",
      "execution_count": null,
      "metadata": {
        "vscode": {
          "languageId": "plaintext"
        }
      },
      "outputs": [],
      "source": [
        "show<99>(expr1)"
      ]
    },
    {
      "cell_type": "markdown",
      "metadata": {},
      "source": [
        "## Filters and gates\n",
        "\n",
        "This way of looking at quantum algorithms might be non-intuitive at first sight but is has some advantages. Each level can be of type `UnaryQGate`, `BinaryQGate`, or `TernaryQGate` and has the attributes `gate`, `filter` and `exprX`.\n",
        "```text\n",
        "BinaryQGate\n",
        "|   gate = QCNOT\n",
        "| filter = QFilterSelect [ 0 1 ]\n",
        "|  expr0 = QFilterSelect [ 0 ]\n",
        "|  expr1 = UnaryQGate\n",
        "|          |   gate = QHadamard\n",
        "|          | filter = QFilterSelect [ 1 ]\n",
        "|          |   expr = UnaryQGate\n",
        "|          |          |   gate = QInit\n",
        "|          |          | filter = QFilterSelect [ 0 ]\n",
        "|          |          |   expr = QFilter\n",
        "```"
      ]
    },
    {
      "cell_type": "markdown",
      "metadata": {},
      "source": [
        "Let's start at the innermost level\n",
        "```text\n",
        "                      UnaryQGate\n",
        "|          |          |   gate = QInit\n",
        "|          |          | filter = QFilterSelect [ 0 ]\n",
        "|          |          |   expr = QFilter\n",
        "```\n",
        "which performs the operation `gate = QInit`. *Afterwards* the `filter = QFilterSelect [ 0 ]` is applied, that is, the zeroth qubit is selected and all upstream operations are performed on this subset of qubits unless the filter is reset."
      ]
    },
    {
      "cell_type": "markdown",
      "metadata": {},
      "source": [
        "The next level is\n",
        "```text\n",
        "UnaryQGate\n",
        "|          |   gate = QHadamard\n",
        "|          | filter = QFilterSelect [ 1 ]\n",
        "|          |   expr = <INPUT FROM PREVIOUS LEVEL>\n",
        "```\n",
        "whereby the `expr` onto which the `gate = QHadamard` operation is applied comes from the previous level. Again, the selection of qubits is modified *afterwards* through `filter = QFilterSelect [ 1 ]`."
      ]
    },
    {
      "cell_type": "markdown",
      "metadata": {},
      "source": [
        "The outermost level \n",
        "```text\n",
        "BinaryQGate\n",
        "|   gate = QCNOT\n",
        "| filter = QFilterSelect [ 0 1 ]\n",
        "|  expr0 = QFilterSelect [ 0 ]\n",
        "|  expr1 = <INPUT FROM PREVIOUS LEVEL>\n",
        "```\n",
        "performs the CNOT operation using the input from the previous level as `expr1`, i.e., the zeroth qubit (`QFilterSelect [ 1 ]`) is the one to which the CNOT operation is applied to. The control qubit is specified by `expr0 = QFilterSelect [ 0 ]`."
      ]
    },
    {
      "cell_type": "markdown",
      "metadata": {},
      "source": [
        "## More on filters\n",
        "\n",
        "**LibKet's** filter mechanism can do much more than just selecting individual qubits one by one.\n",
        "\n",
        "*   `qubit_<4>` selects one individual qubit, i.e. `q4`\n",
        "*   `sel_<0,1,4,8>` selects individual qubits, i.e. `q0`, `q1`, `q4` and `q8`\n",
        "*   `range_<0,4>` selects qubit range, i.e. `q0` - `q4`"
      ]
    },
    {
      "cell_type": "markdown",
      "metadata": {},
      "source": [
        "The trailing `_` indicates that the selection is absolute. That is, no matter which qubits have been selected before the next filter first zooms out to *all* qubits and then selects the specified ones. Hence, `sel_<4>(...)` is equivalent to `sel<4>(all(...))`.\n",
        "\n",
        "All filters also exist as relative versions (without trailing `_`), whereby the filter is applied relative to the selection of incoming qubits."
      ]
    },
    {
      "cell_type": "code",
      "execution_count": null,
      "metadata": {
        "vscode": {
          "languageId": "plaintext"
        }
      },
      "outputs": [],
      "source": [
        "show<99>(range<1,3>(sel_<1,3,8,7,6>(init())));"
      ]
    },
    {
      "cell_type": "markdown",
      "metadata": {},
      "source": [
        "#### Exercise 1\n",
        "Write a quantum expression that applies the [first Bell state](https://en.wikipedia.org/wiki/Bell_state) $ \\lvert \\beta_{00}\\rangle = \\frac{1}{\\sqrt{2}}(\\lvert 00 \\rangle + \\lvert 11 \\rangle) $ \n",
        "\n",
        "![Bell state](images/multi_qubit_circuit_HI_CNOT.png)\n",
        "\n",
        "to any two incoming qubits (specified by the expression `expr2_in`) and validate its correct functioning for different qubit selections from a 4-qubit device."
      ]
    },
    {
      "cell_type": "code",
      "execution_count": null,
      "metadata": {
        "vscode": {
          "languageId": "plaintext"
        }
      },
      "outputs": [],
      "source": [
        "auto expr2_in = sel_<2,3>(init());\n",
        "\n",
        "// your code goes here\n",
        "\n",
        "QDevice<QDeviceType::quest, 4> device2;\n",
        "device2(expr2);\n",
        "device2.eval(1);\n",
        "\n",
        "std::cout << device2.reg() << std::endl;"
      ]
    },
    {
      "cell_type": "markdown",
      "metadata": {},
      "source": [
        "## Changing the quantum backend\n",
        "\n",
        "In order to make sure that we start from the same quantum expression let us create the first Bell state again this time with measurement at the end"
      ]
    },
    {
      "cell_type": "code",
      "execution_count": null,
      "metadata": {
        "vscode": {
          "languageId": "plaintext"
        }
      },
      "outputs": [],
      "source": [
        "auto expr_bell = measure(cnot(h(sel<0>()), sel<1>(init())));"
      ]
    },
    {
      "cell_type": "markdown",
      "metadata": {},
      "source": [
        "In what follows we will execute this quantum expression on two different quantum backends."
      ]
    },
    {
      "cell_type": "markdown",
      "metadata": {},
      "source": [
        "![Cirq](images/cirq_logo.png)\n",
        "\n",
        "[Cirq](https://quantumai.google/cirq) is a Python package for writing, manipulating, and optimizing quantum circuits developed by Google. It is seamlessly integrated into **LibKet** using the embedded Python interpreter, so you should not notice all the technical details going on under the hood."
      ]
    },
    {
      "cell_type": "code",
      "execution_count": null,
      "metadata": {
        "vscode": {
          "languageId": "plaintext"
        }
      },
      "outputs": [],
      "source": [
        "QDevice<QDeviceType::cirq_simulator, 2> cirq;\n",
        "utils::json result = cirq(expr).eval(1);"
      ]
    },
    {
      "cell_type": "markdown",
      "metadata": {},
      "source": [
        "Unlike the previously used QuEST simulator, Cirq returns the outcome of the evaluation as JSON object which we can print directly"
      ]
    },
    {
      "cell_type": "code",
      "execution_count": null,
      "metadata": {
        "vscode": {
          "languageId": "plaintext"
        }
      },
      "outputs": [],
      "source": [
        "std::cout << result << std::endl;"
      ]
    },
    {
      "cell_type": "markdown",
      "metadata": {},
      "source": [
        "We can also get a slightly prettier output"
      ]
    },
    {
      "cell_type": "code",
      "execution_count": null,
      "metadata": {
        "vscode": {
          "languageId": "plaintext"
        }
      },
      "outputs": [],
      "source": [
        "std::cout << result.dump(2) << std::endl;"
      ]
    },
    {
      "cell_type": "markdown",
      "metadata": {},
      "source": [
        "As this is still not too informative, **LibKet** provides quick access `get<...>()` functions to retrieve information about the ``duration`` of the quantum computation, a ``histogram`` of all measured states, and the ``best`` state, i.e. the one that was measured most often"
      ]
    },
    {
      "cell_type": "code",
      "execution_count": null,
      "metadata": {
        "vscode": {
          "languageId": "plaintext"
        }
      },
      "outputs": [],
      "source": [
        "std::cout << \"duration  : \" << cirq.get<QResultType::duration>(result).count() << \" seconds\" << std::endl;\n",
        "std::cout << \"histogram : \" << cirq.get<QResultType::histogram>(result)        << std::endl;\n",
        "std::cout << \"best      : \" << cirq.get<QResultType::best>(result)             << std::endl;"
      ]
    },
    {
      "cell_type": "markdown",
      "metadata": {},
      "source": [
        "Let's increase the number of **shots**, i.e. the number of times we run the quantum circuit in our simulator, to ``20`` to see how the histogram changes "
      ]
    },
    {
      "cell_type": "markdown",
      "metadata": {},
      "source": [
        "result = cirq.eval(20);\n",
        "\n",
        "std::cout << \"duration  : \" << cirq.get<QResultType::duration>(result).count() << \" seconds\" << std::endl;\n",
        "std::cout << \"histogram : \" << cirq.get<QResultType::histogram>(result)        << std::endl;\n",
        "std::cout << \"best      : \" << cirq.get<QResultType::best>(result)             << std::endl;"
      ]
    },
    {
      "cell_type": "markdown",
      "metadata": {},
      "source": [
        "![QuantumInspire](images/quantuminspire_logo.png)\n",
        "\n",
        "Let's move on to the next quantum backend supported by **LibKet** - [QuantumInspire](https://quantuminspire.com), which is a multi hardware Quantum Technology platform by QuTech. Without any changes to the quantum expression ``expr_bell``, we create a new Quantum Inspire device, load it with the quantum expression and run it the same way as before. The only difference compared to the Cirq backend is that we need to provide a valid username and password. This can be obtained by creating a free account [here](https://quantuminspire.com/account/create)."
      ]
    },
    {
      "cell_type": "code",
      "execution_count": null,
      "metadata": {
        "vscode": {
          "languageId": "plaintext"
        }
      },
      "outputs": [],
      "source": [
        "QDevice<QDeviceType::qi_26_simulator, 2> qi(\"FILL_USERNAME_HERE\", \"FILL_PASSWORD_HERE\");\n",
        "utils::json result = qi(expr).eval(20);\n",
        "\n",
        "std::cout << \"duration  : \" << qi.get<QResultType::duration>(result).count() << \" seconds\" << std::endl;\n",
        "std::cout << \"histogram : \" << qi.get<QResultType::histogram>(result)        << std::endl;\n",
        "std::cout << \"best      : \" << qi.get<QResultType::best>(result)             << std::endl;"
      ]
    },
    {
      "cell_type": "markdown",
      "metadata": {},
      "source": [
        "Let's take a short look under the hood to see how much work is required to write low-level quantum assembly language (QASM) for the two simulators"
      ]
    },
    {
      "cell_type": "code",
      "execution_count": null,
      "metadata": {
        "vscode": {
          "languageId": "plaintext"
        }
      },
      "outputs": [],
      "source": [
        "std::cout << \"------- Cirq -------\\n\" << cirq    << std::endl;\n",
        "std::cout << \"-- QuantumInspire --\\n\" << qi  << std::endl;"
      ]
    },
    {
      "cell_type": "markdown",
      "metadata": {},
      "source": [
        "**LibKet** is designed as backend-agnostic quantum programming framework with a unified API, which means that the core functionality is implemented for all quantum backends. If a particular backend does not support a specific function, e.g., Cirq does not report the ``duration`` of the quantum computation, default values are returned."
      ]
    },
    {
      "cell_type": "markdown",
      "metadata": {},
      "source": [
        "Some quantum backends provide extra functionality, which is exposed via **LibKet**. Cirq for instance can export the quantum circuit to [LaTeX](https://www.latex-project.org) code using the [Qcircuit](https://ctan.org/pkg/qcircuit) package"
      ]
    },
    {
      "cell_type": "code",
      "execution_count": null,
      "metadata": {
        "vscode": {
          "languageId": "plaintext"
        }
      },
      "outputs": [],
      "source": [
        "std::cout << cirq.to_latex() << std::endl;"
      ]
    },
    {
      "cell_type": "markdown",
      "metadata": {},
      "source": [
        "The resulting circuit looks as follows\n",
        "\n",
        "![Bell state](images/qiskit_to_latex.png)"
      ]
    }
  ],
  "metadata": {
    "kernelspec": {
      "display_name": "C++17",
      "language": "C++17",
      "name": "xcpp17"
    },
    "language_info": {
      "codemirror_mode": "text/x-c++src",
      "file_extension": ".cpp",
      "mimetype": "text/x-c++src",
      "name": "c++",
      "version": "17"
    }
  },
  "nbformat": 4,
  "nbformat_minor": 1
}
