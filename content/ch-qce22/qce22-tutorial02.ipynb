{
    "cells": [
        {
            "cell_type": "markdown",
            "metadata": {},
            "source": [
                "# Tutorial \\#2: LibKet - The Basics\n",
                "\n",
                "In this second part of the tutorial you will learn to write simple quantum algorithms in **LibKet** and to execute them on the quantum computer simulator QuEST."
            ]
        },
        {
            "cell_type": "markdown",
            "metadata": {},
            "source": [
                "## Getting started\n",
                "\n",
                "**LibKet** is implemented as header-only C++17 library. It suffices to include the main header file `LibKet.hpp` in your application."
            ]
        },
        {
            "cell_type": "code",
            "execution_count": null,
            "metadata": {
                "trusted": true
            },
            "outputs": [],
            "source": [
                "#include \"LibKet.hpp\""
            ]
        },
        {
            "cell_type": "markdown",
            "metadata": {},
            "source": [
                "**LibKet**'s main functionality resides in the global namespace `LibKet` and in the nested namespaces `circuits`, `filters`, and `gates`.\n",
                "\n",
                "Let's import their functionality."
            ]
        },
        {
            "cell_type": "code",
            "execution_count": null,
            "metadata": {
                "trusted": true
            },
            "outputs": [],
            "source": [
                "using namespace LibKet;\n",
                "using namespace LibKet::circuits;\n",
                "using namespace LibKet::filters;\n",
                "using namespace LibKet::gates;"
            ]
        },
        {
            "cell_type": "markdown",
            "metadata": {},
            "source": [
                "Whenever you'd like to get help on a **LibKet** class or function you can simply type \n",
                "``?LibKet::QProgram`` to display the [documentation](https://libket.gitlab.io/LibKet/)"
            ]
        },
        {
            "cell_type": "code",
            "execution_count": null,
            "metadata": {
                "trusted": true
            },
            "outputs": [],
            "source": [
                "?LibKet::QProgram"
            ]
        },
        {
            "cell_type": "markdown",
            "metadata": {},
            "source": [
                "## Single-qubit quantum gates\n",
                "Implementing and executing a quantum algorithm in **LibKet** consists of two steps\n",
                "1. Creation of a generic hardware-agnostic **quantum program** or **quantum expression**\n",
                "2. Evaluation of the program or expression on a concrete **quantum backend**\n",
                "\n",
                "Since quantum programs are the more traditional approach of implementing quantum algorithms we will start with it and redo some of the examples using quantum expressions in the third part of the tutorial."
            ]
        },
        {
            "cell_type": "markdown",
            "metadata": {},
            "source": [
                "### Quantum program\n",
                "Let's start with the first step and create a quantum program that initializes the qubit to zero, $ \\lvert 0 \\rangle$, and apply a **Pauli-X** or **NOT**-gate to it, $ \\lvert\\psi \\rangle = X\\lvert 0\\rangle $."
            ]
        },
        {
            "cell_type": "code",
            "execution_count": null,
            "metadata": {
                "vscode": {
                    "languageId": "plaintext"
                }
            },
            "outputs": [],
            "source": [
                "QProgram prog1;\n",
                "prog1.x(0);"
            ]
        },
        {
            "cell_type": "markdown",
            "metadata": {},
            "source": [
                "That's it. We can now proceed to step 2."
            ]
        },
        {
            "cell_type": "markdown",
            "metadata": {},
            "source": [
                "### Quantum backend\n",
                "Let's evaluate our first quantum program on a quantum simulator.\n",
                "\n",
                "**LibKet** supports a couple of them but the easiest one is probably the open-source [QuEST](https://quest.qtechtheory.org) *Quantum Exact Simulation Toolkit.* \n",
                "\n",
                "The following code snippet shows how to\n",
                "1.  Create a quantum device for a single qubit\n",
                "2.  Load our quantum program into it\n",
                "3.  Evaluate the quantum kernel and print the result"
            ]
        },
        {
            "cell_type": "code",
            "execution_count": null,
            "metadata": {
                "trusted": true
            },
            "outputs": [],
            "source": [
                "QDevice<QDeviceType::quest, 1> device1;\n",
                "device1(prog1.to_string()).eval(1);\n",
                "std::cout << device1.reg() << std::endl;"
            ]
        },
        {
            "cell_type": "markdown",
            "metadata": {},
            "source": [
                "What we see here are the complex-valued coefficients $ \\alpha $ and $ \\beta $ of the state vector \n",
                "\n",
                "$$ \\lvert\\psi\\rangle = \\alpha \\lvert 0 \\rangle + \\beta \\lvert 1 \\rangle $$\n",
                "\n",
                "with $ |\\alpha|^2+|\\beta|^2 = 1 $. Since we started with $ \\lvert 0 \\rangle $ and applied a **NOT**-gate to it, we obtain \n",
                "\n",
                "$$ (0+i0)\\lvert 0 \\rangle + (1+i0)\\lvert 1 \\rangle = \\lvert 1 \\rangle $$"
            ]
        },
        {
            "cell_type": "markdown",
            "metadata": {},
            "source": [
                "If you rerun the above code block you will obtain the error\n",
                "```\n",
                "input_line_22:2:33: error: redefinition of 'device1'\n",
                " QDevice<QDeviceType::quest, 1> device1;\n",
                "                                ^\n",
                "input_line_10:2:33: note: previous definition is here\n",
                " QDevice<QDeviceType::quest, 1> device1;\n",
                "                                ^\n",
                "```\n",
                "This is expected C++ behavior as you try to redefine the object `device1`. That's why we number programs and devices in this tutorial. If you nontheless want to rerun code blocks just comment out the definitions, e.g.\n",
                "```cpp\n",
                "// QDevice<QDeviceType::quest, 1> device1;\n",
                "device1(prog1.to_string()).eval(1);\n",
                "std::cout << device1.reg() << std::endl;\n",
                "```"
            ]
        },
        {
            "cell_type": "markdown",
            "metadata": {},
            "source": [
                "#### Exercise 1\n",
                "Try yourself to create an expression for $ X\\lvert1\\rangle $ and evaluate it on the QuEST simulator. What is the value of the coefficients?"
            ]
        },
        {
            "cell_type": "code",
            "execution_count": null,
            "metadata": {
                "trusted": true
            },
            "outputs": [],
            "source": []
        },
        {
            "cell_type": "markdown",
            "metadata": {},
            "source": [
                "### Hadamard gate\n",
                "\n",
                "Let us now create the quantum expression for $ H\\lvert0\\rangle $, the **Hadamard** gate."
            ]
        },
        {
            "cell_type": "code",
            "execution_count": null,
            "metadata": {
                "trusted": true
            },
            "outputs": [],
            "source": [
                "QProgram prog3;\n",
                "prog3.h(0);\n",
                "\n",
                "QDevice<QDeviceType::quest, 1> device3;\n",
                "device3(prog3.to_string()).eval(1);\n",
                "std::cout << device3.reg() << std::endl;"
            ]
        },
        {
            "cell_type": "markdown",
            "metadata": {},
            "source": [
                "In this case the state vector is 'halfway between' $ \\lvert0\\rangle $ and $ \\lvert1\\rangle $ since $ \\alpha = \\sqrt{2}+i0 $ and $ \\beta = \\sqrt{2}+i0 $. This phenomenon is termed **superposition** of the two pure states. It should be noted that this look behind the curtain is only possible with a quantum simulator but not with a real hardware device.\n",
                "\n",
                "The coefficients $ \\alpha $ and $ \\beta$ are termed the **probability amplitudes** and $ \\lvert\\alpha\\lvert^2 $ and $ \\lvert\\beta\\lvert^2 $ are the **probabilities**. The QuEST simulator allows you to calculate them directly by calling ``device.probabilities()``."
            ]
        },
        {
            "cell_type": "code",
            "execution_count": null,
            "metadata": {
                "trusted": true
            },
            "outputs": [],
            "source": [
                "QProgram prog4;\n",
                "prog4.h(0);\n",
                "\n",
                "QDevice<QDeviceType::quest, 1> device4;\n",
                "device4(prog4.to_string()).eval(1);\n",
                "std::cout << device4.probabilities() << std::endl;"
            ]
        },
        {
            "cell_type": "markdown",
            "metadata": {},
            "source": [
                "#### Exercise 2\n",
                "Try yourself to create an expression for $ H \\lvert 1 \\rangle $ and evaluate it on the QuEST simulator. What is the value of the coefficients? What is their probabilities?"
            ]
        },
        {
            "cell_type": "code",
            "execution_count": null,
            "metadata": {
                "trusted": true
            },
            "outputs": [],
            "source": []
        },
        {
            "cell_type": "markdown",
            "metadata": {},
            "source": [
                "### Measurement\n",
                "On a real quantum computer, one cannot readout the values of the state vector directly. The same applies to the probabilities. The way to obtain the latter is to perform **measurements** at the end of the quantum circuit and run it multiple times."
            ]
        },
        {
            "cell_type": "code",
            "execution_count": null,
            "metadata": {
                "trusted": true
            },
            "outputs": [],
            "source": [
                "QProgram prog6;\n",
                "prog6.h(0);\n",
                "prog6.measure(0);\n",
                "\n",
                "QDevice<QDeviceType::quest, 1> device6;\n",
                "device6(prog6.to_string());\n",
                "for(int i=0; i<10; ++i) {\n",
                "    device6.eval(1);\n",
                "    std::cout << device6.creg() << std::endl;\n",
                "}"
            ]
        },
        {
            "cell_type": "markdown",
            "metadata": {},
            "source": [
                "You should see that there is a 50:50 change of ending up in either of the two states."
            ]
        },
        {
            "cell_type": "markdown",
            "metadata": {},
            "source": [
                "## Single-qubit quantum circuits\n",
                "\n",
                "#### Exercise 3\n",
                "Create a quantum program for the following circuit and evaluate it\n",
                "\n",
                "![HZH](images/single_qubit_circuit_HZH.png)"
            ]
        },
        {
            "cell_type": "code",
            "execution_count": null,
            "metadata": {
                "trusted": true
            },
            "outputs": [],
            "source": []
        },
        {
            "cell_type": "markdown",
            "metadata": {},
            "source": [
                "Next create a quantum expression for the following circuit and evaluate it\n",
                "\n",
                "![HXH](images/single_qubit_circuit_HXH.png)"
            ]
        },
        {
            "cell_type": "code",
            "execution_count": null,
            "metadata": {
                "trusted": true
            },
            "outputs": [],
            "source": []
        },
        {
            "cell_type": "markdown",
            "metadata": {},
            "source": [
                "## Multi-qubit quantum circuits\n",
                "Creating quantum programs for circuits with multiple qubits follows the same principle. Just make sure you give the correct qubit numbers. We follow the convention adopted by many quantum programming libraries that the top-most qubit is qubit number 0, the one below is qubit number 1, etcetera.\n",
                "\n",
                "![HI](images/multi_qubit_circuit_HI.png)\n",
                "\n",
                "A quantum program for the above two-qubit quantum circuit can be constructed as follows"
            ]
        },
        {
            "cell_type": "code",
            "execution_count": null,
            "metadata": {
                "trusted": true
            },
            "outputs": [],
            "source": [
                "QProgram prog9;\n",
                "prog9.h(0);\n",
                "prog9.i(1);"
            ]
        },
        {
            "cell_type": "markdown",
            "metadata": {},
            "source": [
                "In fact, the last line is not necessary since the identity gate does not change the state of the qubits and can be left out."
            ]
        },
        {
            "cell_type": "markdown",
            "metadata": {},
            "source": [
                "#### Exercise 4\n",
                "What is the result of evaluating it on the QuEST simulator? Don't forget to set the number of qubits to two."
            ]
        },
        {
            "cell_type": "code",
            "execution_count": null,
            "metadata": {
                "trusted": true
            },
            "outputs": [],
            "source": []
        },
        {
            "cell_type": "markdown",
            "metadata": {},
            "source": [
                "## Multi-qubit quantum gates\n",
                "In the above example the multi-qubit circuit was composed of two single-qubit gates, whereby the identidy gate was left out since it had no effecty.\n",
                "\n",
                "**LibKet** also provides a couple of true multi-qubit gates like the **CNOT**-gate. Since it operates on two qubits simultaneously we have to pass two arguments to it. The first one is the **control qubit** and the second is the **target qubit**."
            ]
        },
        {
            "cell_type": "code",
            "execution_count": null,
            "metadata": {
                "trusted": true
            },
            "outputs": [],
            "source": [
                "QProgram prog11;\n",
                "prog11.cnot(0, 1);"
            ]
        },
        {
            "cell_type": "markdown",
            "metadata": {},
            "source": [
                "## Multi-qubit quantum circuit"
            ]
        },
        {
            "cell_type": "markdown",
            "metadata": {},
            "source": [
                "#### Exercise 5\n",
                "Create a quantum expression for the following two-qubit circuit which creates the [first Bell state](https://en.wikipedia.org/wiki/Bell_state) $ \\lvert \\beta_{00}\\rangle = \\frac{1}{\\sqrt{2}}(\\lvert 00 \\rangle + \\lvert 11 \\rangle) $ and execute it on the QuEST simulator\n",
                "\n",
                "![Bell](images/multi_qubit_circuit_HI_CNOT.png)"
            ]
        },
        {
            "cell_type": "code",
            "execution_count": null,
            "metadata": {
                "trusted": true
            },
            "outputs": [],
            "source": []
        },
        {
            "cell_type": "markdown",
            "metadata": {},
            "source": [
                "If you want to apply the same quantum gate to multiple qubits at the same time you can pass the qubit numbers as lists, e.g."
            ]
        },
        {
            "cell_type": "code",
            "execution_count": null,
            "metadata": {
                "vscode": {
                    "languageId": "plaintext"
                }
            },
            "outputs": [],
            "source": [
                "QProgram prog13;\n",
                "prog13.h({0,2});\n",
                "prog13.cnot({0,2},{1,3});\n",
                "prog13.measure({0,1,2,3});"
            ]
        },
        {
            "cell_type": "markdown",
            "metadata": {},
            "source": [
                "## Self-study exercise: Bell states\n",
                "Write quantum programs for the three other Bell states\n",
                "\n",
                "$$ \\lvert \\beta_{01}\\rangle = \\frac{1}{\\sqrt{2}}(\\lvert 01 \\rangle + \\lvert 10 \\rangle) \\qquad\n",
                "   \\lvert \\beta_{10}\\rangle = \\frac{1}{\\sqrt{2}}(\\lvert 00 \\rangle - \\lvert 11 \\rangle) / \\sqrt{2} \\qquad\n",
                "   \\lvert \\beta_{11}\\rangle = \\frac{1}{\\sqrt{2}}(\\lvert 01 \\rangle - \\lvert 10 \\rangle) / \\sqrt{2} $$"
            ]
        },
        {
            "cell_type": "code",
            "execution_count": null,
            "metadata": {
                "trusted": true
            },
            "outputs": [],
            "source": []
        },
        {
            "cell_type": "markdown",
            "metadata": {},
            "source": [
                "## Self-study exercise: Basic quantum circuits\n",
                "Write quantum programs for the following circuits.\n",
                "\n",
                "![Exercise](images/multi_qubit_circuit_exercises.png)\n",
                "\n",
                "The second gate in the third exercise is a **SWAP**-gate, ``swap(qubit0, qubit1)`` which simply swaps the two qubits.\n",
                "\n",
                "The last gate in the fourth exercise is termed **Toffoli** or **CCNOT**-gate, ``ccnot(ctrl0, ctrl1, target)`` which applies a **Pauli-X** or **NOT**-operation on the target qubit of both control qubits are true."
            ]
        },
        {
            "cell_type": "code",
            "execution_count": null,
            "metadata": {
                "trusted": true
            },
            "outputs": [],
            "source": []
        }
    ],
    "metadata": {
        "kernelspec": {
            "display_name": "C++17",
            "language": "C++17",
            "name": "xcpp17"
        },
        "language_info": {
            "codemirror_mode": "text/x-c++src",
            "file_extension": ".cpp",
            "mimetype": "text/x-c++src",
            "name": "c++",
            "version": "17"
        }
    },
    "nbformat": 4,
    "nbformat_minor": 1
}
