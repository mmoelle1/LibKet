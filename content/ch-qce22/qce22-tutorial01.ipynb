{
 "cells": [
  {
   "cell_type": "markdown",
   "metadata": {},
   "source": [
    "# Tutorial \\#1: Hands-on Introduction to Quantum Computing\n",
    "In this first part of the tutorial you will learn the fundamentals of quantum computing including superposition of states, destructive measurement, entanglement, quantum gates and circuits. You will be able to understand and calculate the output of a quantum circuit."
   ]
  },
  {
   "cell_type": "markdown",
   "metadata": {},
   "source": [
    "## Getting started\n",
    "\n",
    "To get a better understanding of how quantum computing works from the mathematical point of view we implement a couple of quantum gates by hand and investigate how they act on quantum states. This is all done using the Python package `numpy` whose functionality we make available under the alias `np` with the following command"
   ]
  },
  {
   "cell_type": "code",
   "execution_count": 2,
   "metadata": {},
   "outputs": [],
   "source": [
    "import numpy as np\n",
    "import math "
   ]
  },
  {
   "cell_type": "markdown",
   "metadata": {},
   "source": [
    "Let us represent the single-qubit state\n",
    "\n",
    "$$ \\lvert\\psi\\rangle = \\alpha \\lvert 0 \\rangle + \\beta \\lvert 1 \\rangle, \\qquad |\\alpha|^2+|\\beta|^2 = 1 $$\n",
    "\n",
    "by its two complex-valued coefficients $ \\alpha $ and $ \\beta $ of the state vector as a vector.\n",
    "\n",
    "As we just shown, the quantum state $  \\lvert 0 \\rangle $ is represented by the vector $\\left( \\begin{array}{c} 1 \\\\ 0 \\end{array} \\right)$, whereas the quantum state $ \\lvert 1 \\rangle $ corresponds to the vector $\\left( \\begin{array}{c} 0 \\\\ 1 \\end{array} \\right)$, which can be defined as:"
   ]
  },
  {
   "cell_type": "code",
   "execution_count": 23,
   "metadata": {},
   "outputs": [
    {
     "name": "stdout",
     "output_type": "stream",
     "text": [
      "q0= [[1]\n",
      " [0]]\n"
     ]
    }
   ],
   "source": [
    "q0 = np.array([[1],[0]])\n",
    "print('q0=',q0)"
   ]
  },
  {
   "cell_type": "code",
   "execution_count": 24,
   "metadata": {},
   "outputs": [
    {
     "name": "stdout",
     "output_type": "stream",
     "text": [
      "q1= [[0]\n",
      " [1]]\n"
     ]
    }
   ],
   "source": [
    "q1 = np.array([[0],[1]])\n",
    "print('q1=',q1)"
   ]
  },
  {
   "cell_type": "markdown",
   "metadata": {},
   "source": [
    "Quantum gates are represented by matrices. The unitary operator (matrix) of the X gate is $\\left( \\begin{array}{cc} 0 & 1 \\\\ 1 & 0 \\end{array}\\right) $ that can be defined as:\n"
   ]
  },
  {
   "cell_type": "code",
   "execution_count": 25,
   "metadata": {},
   "outputs": [
    {
     "name": "stdout",
     "output_type": "stream",
     "text": [
      "[[0 1]\n",
      " [1 0]]\n"
     ]
    }
   ],
   "source": [
    "X = np.array([[0,1],[1,0]])\n",
    "print(X)"
   ]
  },
  {
   "cell_type": "markdown",
   "metadata": {},
   "source": [
    "**Exercise 1**\n",
    "\n",
    "The resulting state of applying a X gate to a given quantum state $ \\lvert\\psi_{in}\\rangle$ can be calculated as: \n",
    "\n",
    "$$ \\lvert\\psi_{out}\\rangle = X\\lvert\\psi_{in}\\rangle $$\n",
    "\n",
    "We can then calculate the result of applying a X gate to quantum state $\\lvert 0 \\rangle $ as follows:\n"
   ]
  },
  {
   "cell_type": "code",
   "execution_count": 38,
   "metadata": {},
   "outputs": [
    {
     "name": "stdout",
     "output_type": "stream",
     "text": [
      "[[0]\n",
      " [1]]\n"
     ]
    }
   ],
   "source": [
    "out1 = np.dot(X,q0)\n",
    "print(out1)"
   ]
  },
  {
   "cell_type": "markdown",
   "metadata": {},
   "source": [
    "Similarly, the result of applying a X gate to quantum state $\\lvert 1 \\rangle $ can be calculated as:\n"
   ]
  },
  {
   "cell_type": "code",
   "execution_count": 39,
   "metadata": {},
   "outputs": [
    {
     "name": "stdout",
     "output_type": "stream",
     "text": [
      "[[1]\n",
      " [0]]\n"
     ]
    }
   ],
   "source": [
    "out2 = np.dot(X,q1)\n",
    "print(out2)"
   ]
  },
  {
   "cell_type": "markdown",
   "metadata": {},
   "source": [
    "Let's now calculate the result of applying a Hadamard gate (H) to state $  \\lvert 0 \\rangle $ and to state $  \\lvert 1 \\rangle $. The matrix representing the H gate is $ \\frac{1}{\\sqrt{2}}\\left(\\begin{array}{cc} 1 & 1 \\\\ 1 & -1 \\end{array}\\right) $"
   ]
  },
  {
   "cell_type": "code",
   "execution_count": 40,
   "metadata": {},
   "outputs": [],
   "source": [
    "## your code goes here\n",
    "H = 1/math.sqrt(2)*np.array([[1,1],[1,-1]])\n",
    "\n"
   ]
  },
  {
   "cell_type": "markdown",
   "metadata": {},
   "source": [
    "**Exercise 2**\n",
    "\n",
    "The output state after applying three single-qubit gates to a quantum state can be calculated as:\n",
    "\n",
    "$$ \\lvert\\psi_{out}\\rangle = U_3U_2U_1\\lvert\\psi_{in}\\rangle $$\n",
    "\n",
    "being $U_3$ the last gate (most right gate).\n",
    "\n",
    "Let's now calculate the output state when applying the following series of gates to state $\\lvert 0 \\rangle $ \n",
    "\n",
    "![Figure exercise 2](images/Fig_Ex2.png)\n"
   ]
  },
  {
   "cell_type": "markdown",
   "metadata": {},
   "source": [
    "First, we need to define the matrix correspoding to the Z gate: $\\left( \\begin{array}{cc} 1 & 0 \\\\ 0 & -1 \\end{array}\\right) $"
   ]
  },
  {
   "cell_type": "code",
   "execution_count": 41,
   "metadata": {},
   "outputs": [],
   "source": [
    "## your code goes here"
   ]
  },
  {
   "cell_type": "markdown",
   "metadata": {},
   "source": [
    "Now, we can calculate the output using the formula shown above.\n",
    "\n",
    "**Note that the dot function only allows two matrices as arguments**"
   ]
  },
  {
   "cell_type": "code",
   "execution_count": 42,
   "metadata": {},
   "outputs": [],
   "source": [
    "## your code goes here (HZH)"
   ]
  },
  {
   "cell_type": "code",
   "execution_count": 43,
   "metadata": {},
   "outputs": [],
   "source": [
    "## your code goes here (HXH)"
   ]
  },
  {
   "cell_type": "markdown",
   "metadata": {},
   "source": [
    "**Exercise 3**\n",
    "\n",
    "When combining n qubits, the resulting quantum state can be calculated as: \n",
    "\n",
    "$$ \\lvert\\psi\\rangle = \\lvert\\psi_1\\rangle  \\otimes \\lvert\\psi_2\\rangle \\otimes \\lvert\\psi_3\\rangle \\otimes ... \\lvert\\psi_n\\rangle$$\n",
    "\n",
    "For instance, the quantum state of a system composed by two qubits $q_0 = \\lvert0\\rangle$ and $q_1=\\lvert0\\rangle$ is calculated as $\\lvert0\\rangle \\otimes \\lvert0\\rangle $ that in its vector form is  $\\left( \\begin{array}{c} 1 \\\\ 0 \\\\ 0\\\\ 0\\end{array} \\right)$\n",
    "\n",
    "Let's now derive the vectors corresponding to states $\\lvert 00 \\rangle$, $\\lvert 01 \\rangle$, $\\lvert 10 \\rangle$, and $\\lvert 11 \\rangle$.    \n",
    "\n",
    "**Kronecker product pyhton command: np.kron(A,B)**\n"
   ]
  },
  {
   "cell_type": "code",
   "execution_count": 44,
   "metadata": {
    "scrolled": true
   },
   "outputs": [],
   "source": [
    "## your code goes here\n"
   ]
  },
  {
   "cell_type": "markdown",
   "metadata": {},
   "source": [
    "**Exercise 4**\n",
    "\n",
    "The output state of a two-qubit circuit when applying a single-qubit gate to each of the qubits can be calculated as:\n",
    "\n",
    "$$ \\lvert\\psi_{out}\\rangle = U_1 \\otimes U_2 \\lvert\\psi_{in}\\rangle $$\n",
    "\n",
    "being $U_1$ the gate operating the top qubit and $U_2$ the one applied to the bottom qubit.\n",
    "\n",
    "Let's now calculate the output state when applying the following gates to state $\\lvert 00 \\rangle $ \n",
    "\n",
    "![Figure exercise 3](images/Fig_Ex3.png)\n"
   ]
  },
  {
   "cell_type": "markdown",
   "metadata": {},
   "source": [
    "First, we need to define the matrix corresponding to the Identity gate $\\left( \\begin{array}{cc} 1 & 0 \\\\ 0 & 1 \\end{array}\\right) $"
   ]
  },
  {
   "cell_type": "code",
   "execution_count": 46,
   "metadata": {},
   "outputs": [],
   "source": [
    "## your code goes here (matrix I gate)\n"
   ]
  },
  {
   "cell_type": "markdown",
   "metadata": {},
   "source": [
    "Second, we calculate the Kronecker product of the two gates $ H \\otimes I \\$\n",
    "\n",
    "**Kronecker product pyhton command: np.kron(A,B)**"
   ]
  },
  {
   "cell_type": "code",
   "execution_count": 47,
   "metadata": {},
   "outputs": [],
   "source": [
    "## your code goes here"
   ]
  },
  {
   "cell_type": "markdown",
   "metadata": {},
   "source": [
    "Finally, we calculate resulting state as $\\lvert\\psi_{out}\\rangle = H \\otimes I \\lvert 00\\rangle $\n"
   ]
  },
  {
   "cell_type": "code",
   "execution_count": 48,
   "metadata": {},
   "outputs": [],
   "source": [
    "## your code goes here (HZH)"
   ]
  },
  {
   "cell_type": "markdown",
   "metadata": {},
   "source": [
    "That corresponds to the state $ \\frac{1}{\\sqrt{2}}(\\lvert 00 \\rangle + \\lvert 10 \\rangle) $\n"
   ]
  },
  {
   "cell_type": "markdown",
   "metadata": {},
   "source": [
    "**Exercise 5**\n",
    "\n",
    "The following circuit is used to create the so-called Bell pairs:\n",
    "\n",
    "![Figure exercise 4](images/Fig_Ex4.png)\n",
    "\n",
    "Show that by chaning the input states and performing the corresponding vector-matrix multiplications, the four Bell pairs $ \\beta_{00}= \\frac{1}{\\sqrt{2}}(\\lvert 00 \\rangle + \\lvert 11 \\rangle) $,  $ \\beta_{01}= \\frac{1}{\\sqrt{2}}(\\lvert 01 \\rangle + \\lvert 10 \\rangle) $,  $ \\beta_{10}= \\frac{1}{\\sqrt{2}}(\\lvert 00 \\rangle - \\lvert 11 \\rangle) $, and  $ \\beta_{11}= \\frac{1}{\\sqrt{2}}(\\lvert 01 \\rangle - \\lvert 10 \\rangle) $  can indeed be obtained."
   ]
  },
  {
   "cell_type": "code",
   "execution_count": 49,
   "metadata": {},
   "outputs": [],
   "source": [
    "## your code goes here\n",
    "\n",
    "#CNOT matrix\n",
    "\n",
    "\n",
    "#Kronecker product H and I\n",
    "\n",
    "\n",
    "#Product with the CNOT\n",
    "\n",
    "\n",
    "#Product with the input state\n",
    "\n"
   ]
  }
 ],
 "metadata": {
  "kernelspec": {
   "display_name": "Python 3 (ipykernel)",
   "language": "python",
   "name": "python3"
  },
  "language_info": {
   "codemirror_mode": {
    "name": "ipython",
    "version": 3
   },
   "file_extension": ".py",
   "mimetype": "text/x-python",
   "name": "python",
   "nbconvert_exporter": "python",
   "pygments_lexer": "ipython3",
   "version": "3.7.12"
  }
 },
 "nbformat": 4,
 "nbformat_minor": 1
}
