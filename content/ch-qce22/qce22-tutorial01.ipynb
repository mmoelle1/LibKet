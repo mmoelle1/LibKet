{
 "cells": [
  {
   "cell_type": "markdown",
   "metadata": {},
   "source": [
    "# Tutorial \\#1: Hands-on Introduction to Quantum Computing\n",
    "In this first part of the tutorial you will learn the fundamentals of quantum computing including superposition of states, destructive measurement, entanglement, quantum gates and circuits. You will be able to understand and calculate the output of a quantum circuit."
   ]
  },
  {
   "cell_type": "markdown",
   "metadata": {},
   "source": [
    "## Getting started\n",
    "\n",
    "To get a better understanding of how quantum computing works from the mathematical point of view we implement a couple of quantum gates by hand and investigate how they act on quantum states. This is all done using the Python package `numpy` whose functionality we make available under the alias `np` with the following command"
   ]
  },
  {
   "cell_type": "code",
   "execution_count": null,
   "metadata": {},
   "outputs": [],
   "source": [
    "import numpy as np\n",
    "import math "
   ]
  },
  {
   "cell_type": "markdown",
   "metadata": {},
   "source": [
    "Let us represent the single-qubit state\n",
    "\n",
    "$$ \\lvert\\psi\\rangle = \\alpha \\lvert 0 \\rangle + \\beta \\lvert 1 \\rangle, \\qquad |\\alpha|^2+|\\beta|^2 = 1 $$\n",
    "\n",
    "by its two complex-valued coefficients $ \\alpha $ and $ \\beta $ of the state vector as a vector.\n",
    "\n",
    "As we just shown, the quantum state $  \\lvert 0 \\rangle $ is represented by the vector $\\left( \\begin{array}{c} 1 \\\\ 0 \\end{array} \\right)$, whereas the quantum state $ \\lvert 1 \\rangle $ corresponds to the vector $\\left( \\begin{array}{c} 0 \\\\ 1 \\end{array} \\right)$, which can be defined as:"
   ]
  },
  {
   "cell_type": "code",
   "execution_count": null,
   "metadata": {},
   "outputs": [],
   "source": [
    "q0 = np.array([[1],[0]])\n",
    "print(q1)"
   ]
  },
  {
   "cell_type": "code",
   "execution_count": null,
   "metadata": {},
   "outputs": [],
   "source": [
    "q1 = np.array([[0],[1]])\n",
    "print(q1)"
   ]
  },
  {
   "cell_type": "markdown",
   "metadata": {},
   "source": [
    "Quantum gates are represented by matrices. The unitary operator (matrix) of the X gate is $\\left( \\begin{array}{cc} 0 & 1 \\\\ 1 & 0 \\end{array}\\right) $ that can be defined as:\n"
   ]
  },
  {
   "cell_type": "code",
   "execution_count": null,
   "metadata": {},
   "outputs": [],
   "source": [
    "X = np.array([[0,1],[1,0]])\n",
    "print(X)"
   ]
  },
  {
   "cell_type": "markdown",
   "metadata": {},
   "source": [
    "The resulting state of applying a X gate to a given quantum state $ \\lvert\\psi_{in}\\rangle$ can be calculated as: \n",
    "\n",
    "$$ \\lvert\\psi_{out}\\rangle = X\\lvert\\psi_{in}\\rangle $$\n",
    "\n",
    "We can then calculate the result of applying a X gate to quantum state $\\lvert 0 \\rangle $ as follows:\n"
   ]
  },
  {
   "cell_type": "code",
   "execution_count": null,
   "metadata": {},
   "outputs": [],
   "source": [
    "out1 = X.dot(q0)\n",
    "print(out1)"
   ]
  },
  {
   "cell_type": "markdown",
   "metadata": {},
   "source": [
    "Similarly, the result of applying a X gate to quantum state $\\lvert 1 \\rangle $ can be calculated as:\n"
   ]
  },
  {
   "cell_type": "code",
   "execution_count": null,
   "metadata": {},
   "outputs": [],
   "source": [
    "out2 = np.dot(X,q1)\n",
    "print(out2)"
   ]
  },
  {
   "cell_type": "markdown",
   "metadata": {},
   "source": [
    "Let's now calculate the result of applying a Hadamard gate (H) to state $  \\lvert 0 \\rangle $ and to state $  \\lvert 1 \\rangle $. The matrix representing the H gate is $ \\frac{1}{\\sqrt{2}}\\left(\\begin{array}{cc} 1 & 1 \\\\ 1 & -1 \\end{array}\\right) $"
   ]
  },
  {
   "cell_type": "code",
   "execution_count": null,
   "metadata": {},
   "outputs": [],
   "source": [
    "H = 1/math.sqrt(2)*np.array([[1,1],[1,-1]])\n",
    "print(H)\n",
    "\n",
    "out3 = np.dot(H,q0)\n",
    "out4 = np.dot(H,q1)\n",
    "\n",
    "print(out3)\n",
    "print(out4)\n"
   ]
  },
  {
   "cell_type": "markdown",
   "metadata": {},
   "source": [
    "**Exercise 2**\n",
    "\n",
    "The output state after applying three single-qubit gates to a quantum state can be calculated as:\n",
    "\n",
    "$$ \\lvert\\psi_{out}\\rangle = U_3U_2U_1\\lvert\\psi_{in}\\rangle $$\n",
    "\n",
    "being $U_3$ the last gate (most right gate).\n",
    "\n",
    "Let's now calculate the output state when applying the following series of gates to state $\\lvert 0 \\rangle $ \n",
    "\n",
    "![Figure exercise 2](images/Fig_Ex2.png)\n"
   ]
  },
  {
   "cell_type": "markdown",
   "metadata": {},
   "source": [
    "First, we need to define the matrix correspoding to the Z gate: $\\left( \\begin{array}{cc} 1 & 0 \\\\ 0 & -1 \\end{array}\\right) $"
   ]
  },
  {
   "cell_type": "code",
   "execution_count": null,
   "metadata": {},
   "outputs": [],
   "source": [
    "Z = np.array([[1,0],[0,-1]])\n",
    "print(Z)"
   ]
  },
  {
   "cell_type": "markdown",
   "metadata": {},
   "source": [
    "Now, we can calculate the output using the formula shown above.\n",
    "\n",
    "**Note that the dot function only allows two matrices as arguments**"
   ]
  },
  {
   "cell_type": "code",
   "execution_count": null,
   "metadata": {},
   "outputs": [],
   "source": [
    "mat1= np.dot(H,Z)\n",
    "mat2= np.dot(mat1,H)\n",
    "print(mat2)"
   ]
  },
  {
   "cell_type": "code",
   "execution_count": null,
   "metadata": {},
   "outputs": [],
   "source": [
    "out5= np.dot(mat2,q0)\n",
    "print(out5)"
   ]
  },
  {
   "cell_type": "code",
   "execution_count": null,
   "metadata": {},
   "outputs": [],
   "source": [
    "mat3= np.dot(H,X)\n",
    "mat4= np.dot(mat3,H)\n",
    "print(mat4)"
   ]
  },
  {
   "cell_type": "code",
   "execution_count": null,
   "metadata": {},
   "outputs": [],
   "source": [
    "out6= np.dot(mat4,q0)\n",
    "print(out6)"
   ]
  },
  {
   "cell_type": "markdown",
   "metadata": {},
   "source": [
    "**Exercise 3**\n",
    "\n",
    "The output state of a two-qubit circuit when applying a single-qubit gate to each of the qubits can be calculated as:\n",
    "\n",
    "$$ \\lvert\\psi_{out}\\rangle = U_1 \\otimes U_2 \\lvert\\psi_{in}\\rangle $$\n",
    "\n",
    "being $U_1$ the gate operating the top qubit and $U_2$ the one applied to the bottom qubit.\n",
    "\n",
    "Let's now calculate the output state when applying the following gates to state $\\lvert 00 \\rangle $ \n",
    "\n",
    "![Figure exercise 3](images/Fig_Ex3.png)\n"
   ]
  },
  {
   "cell_type": "markdown",
   "metadata": {},
   "source": [
    "First, we need to define the matrix corresponding to the Identity gate $\\left( \\begin{array}{cc} 1 & 0 \\\\ 0 & 1 \\end{array}\\right) $ and the vector respresenting the state $\\lvert 00 \\rangle $ "
   ]
  },
  {
   "cell_type": "code",
   "execution_count": null,
   "metadata": {},
   "outputs": [],
   "source": [
    "I = np.array([[1,0],[0,1]])\n",
    "print(I)\n",
    "q00=np.array([[1],[0],[0],[0]])\n",
    "print(q00)"
   ]
  },
  {
   "cell_type": "markdown",
   "metadata": {},
   "source": [
    "Second, we calculate the Kronecker product of the two gates $ H \\otimes I \\$\n",
    "\n",
    "**Kronecker product pyhton command: np.kron(A,B)**"
   ]
  },
  {
   "cell_type": "code",
   "execution_count": null,
   "metadata": {},
   "outputs": [],
   "source": [
    "mat5= np.kron(H,I)\n",
    "print(mat5)"
   ]
  },
  {
   "cell_type": "markdown",
   "metadata": {},
   "source": [
    "Finally, we calculate resulting state as $\\lvert\\psi_{out}\\rangle = H \\otimes I \\lvert 00\\rangle $\n"
   ]
  },
  {
   "cell_type": "markdown",
   "metadata": {},
   "source": [
    "out7= np.dot(mat5,q00)\n",
    "print(out7)"
   ]
  },
  {
   "cell_type": "markdown",
   "metadata": {},
   "source": [
    "That corresponds to the state $ \\frac{1}{\\sqrt{2}}(\\lvert 00 \\rangle + \\lvert 10 \\rangle) $\n"
   ]
  },
  {
   "cell_type": "markdown",
   "metadata": {},
   "source": [
    "**Exercise 4**\n",
    "\n",
    "The following circuit is used to creat the so-called Bell pairs:\n",
    "\n",
    "![Figure exercise 4](images/Fig_Ex4.png)\n"
    "\n",
    "Show that by chaning the input states and performing the corresponding vector-matrix multiplications, the four Bell pairs $ \\beta_{00}= \\frac{1}{\\sqrt{2}}(\\lvert 00 \\rangle + \\lvert 11 \\rangle) $,  $ \\beta_{01}= \\frac{1}{\\sqrt{2}}(\\lvert 01 \\rangle + \\lvert 10 \\rangle) $,  $ \\beta_{10}= \\frac{1}{\\sqrt{2}}(\\lvert 00 \\rangle - \\lvert 11 \\rangle) $, and  $ \\beta_{11}= \\frac{1}{\\sqrt{2}}(\\lvert 01 \\rangle - \\lvert 10 \\rangle) $  can indeed be obtained."
   ]
  },
  {
   "cell_type": "code",
   "execution_count": null,
   "metadata": {},
   "outputs": [],
   "source": [
    "## your code goes here\n",
    "\n",
    "#CNOT matrix\n",
    "CNOT=np.array([[1,0,0,0],[0,1,0,0],[0,0,0,1],[0,0,1,0]])\n",
    "print(CNOT)\n",
    "\n",
    "#Kronecker product H and I\n",
    "mat5= np.kron(H,I)\n",
    "print(mat5)\n",
    "\n",
    "#Product with the CNOT\n",
    "mat6= np.dot(CNOT,mat5)\n",
    "print(mat6)\n",
    "\n",
    "#Product with the input state\n",
    "q00=q00=np.array([[1],[0],[0],[0]])\n",
    "q01=np.array([[0],[1],[0],[0]])\n",
    "q10=np.array([[0],[0],[1],[0]])\n",
    "q11=np.array([[0],[0],[0],[1]])\n",
    "\n",
    "out7= np.dot(mat6,q00)\n",
    "print(out7)\n",
    "\n",
    "out8= np.dot(mat6,q01)\n",
    "print(out8)\n",
    "\n",
    "out9= np.dot(mat6,q10)\n",
    "print(out9)\n",
    "\n",
    "out10= np.dot(mat6,q11)\n",
    "print(out10)"
   ]
  },
  {
   "cell_type": "code",
   "execution_count": null,
   "metadata": {},
   "outputs": [],
   "source": []
  }
 ],
 "metadata": {
  "kernelspec": {
   "display_name": "Python 3 (ipykernel)",
   "language": "python",
   "name": "python3"
  },
  "language_info": {
   "codemirror_mode": {
    "name": "ipython",
    "version": 3
   },
   "file_extension": ".py",
   "mimetype": "text/x-python",
   "name": "python",
   "nbconvert_exporter": "python",
   "pygments_lexer": "ipython3",
   "version": "3.7.12"
  }
 },
 "nbformat": 4,
 "nbformat_minor": 1
}
