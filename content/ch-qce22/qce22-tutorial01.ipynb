{
    "nbformat_minor": 1,
    "nbformat": 4,
    "metadata": {
        "language_info": {
            "name":"python",
            "version":"3.7.12",
            "mimetype":"text/x-python",
            "codemirror_mode":{
                "name":"ipython","version":3
            },
            "pygments_lexer":"ipython3",
            "nbconvert_exporter":"python",
            "file_extension":".py"
        },
        "kernelspec": {
            "name": "python3",
            "language": "python",
            "display_name": "Python 3 (ipykernel)"
        }
    },
    "cells": [        
        {
            "source": [
                "# Tutorial \\#1: Hands-on Introduction to Quantum Computing\n",
                "In this tutorial you will learn to\n",
                "1. ..."
            ],
            "metadata": {
            },
            "cell_type": "markdown"
        },
        {
            "source": [
                "## Getting started\n",
                "\n",
                "To get a better understanding of how quantum computing works from the mathematical point of view we implement a couple of quantum gates by hand and investigate how they act on quantum states. This is all done using the Python package `numpy`."
            ],
            "metadata": {
            },
            "cell_type": "markdown"
        },
        {
            "source": [
                "import numpy as np"
            ],
            "outputs": [],
            "metadata": {
                "trusted": true
            },
            "execution_count": null,
            "cell_type": "code"
        }
    ]
}
