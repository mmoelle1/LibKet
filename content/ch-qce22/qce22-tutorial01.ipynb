{
    "cells": [
        {
            "cell_type": "markdown",
            "metadata": {},
            "source": [
                "# Tutorial \\#1: Hands-on Introduction to Quantum Computing\n",
                "In this tutorial you will learn to\n",
                "1. ..."
            ]
        },
        {
            "cell_type": "markdown",
            "metadata": {},
            "source": [
                "## Getting started\n",
                "\n",
                "To get a better understanding of how quantum computing works from the mathematical point of view we implement a couple of quantum gates by hand and investigate how they act on quantum states. This is all done using the Python package `numpy` whose functionality we make available under the alias `np` with the following command"
            ]
        },
        {
            "cell_type": "code",
            "execution_count": null,
            "metadata": {
                "trusted": true
            },
            "outputs": [],
            "source": [
                "import numpy as np"
            ]
        },
        {
            "cell_type": "markdown",
            "metadata": {},
            "source": [
                "Let us represent the single-qubit state\n",
                "\n",
                "$$ \\lvert\\psi\\rangle = \\alpha \\lvert 0 \\rangle + \\beta \\lvert 1 \\rangle, \\qquad |\\alpha|^2+|\\beta|^2 = 1 $$\n",
                "\n",
                "by its two complex-valued coefficients $ \\alpha $ and $ \\beta $ of the state vector as a vector."
            ]
        },
        {
            "cell_type": "code",
            "execution_count": null,
            "metadata": {},
            "outputs": [],
            "source": [
                "q = np.matrix('0 1')"
            ]
        },
        {
            "cell_type": "markdown",
            "metadata": {},
            "source": [
                "Example of a unitary operator"
            ]
        },
        {
            "cell_type": "code",
            "execution_count": null,
            "metadata": {},
            "outputs": [],
            "source": [
                "X = np.matrix('0 1; 1 0')"
            ]
        }
    ],
    "metadata": {
        "kernelspec": {
            "display_name": "Python 3 (ipykernel)",
            "language": "python",
            "name": "python3"
        },
        "language_info": {
            "codemirror_mode": {
                "name": "ipython",
                "version": 3
            },
            "file_extension": ".py",
            "mimetype": "text/x-python",
            "name": "python",
            "nbconvert_exporter": "python",
            "pygments_lexer": "ipython3",
            "version": "3.7.12"
        }
    },
    "nbformat": 4,
    "nbformat_minor": 1
}
